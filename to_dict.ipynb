{
  "nbformat": 4,
  "nbformat_minor": 0,
  "metadata": {
    "colab": {
      "provenance": [],
      "authorship_tag": "ABX9TyPiv1JQ2/lNIis7IN/aliOL",
      "include_colab_link": true
    },
    "kernelspec": {
      "name": "python3",
      "display_name": "Python 3"
    },
    "language_info": {
      "name": "python"
    }
  },
  "cells": [
    {
      "cell_type": "markdown",
      "metadata": {
        "id": "view-in-github",
        "colab_type": "text"
      },
      "source": [
        "<a href=\"https://colab.research.google.com/github/gimpapa/Data_analysis_that_can_be_used_right_in_the_field_with_Python/blob/main/to_dict.ipynb\" target=\"_parent\"><img src=\"https://colab.research.google.com/assets/colab-badge.svg\" alt=\"Open In Colab\"/></a>"
      ]
    },
    {
      "cell_type": "code",
      "source": [
        "import pandas as pd"
      ],
      "metadata": {
        "id": "0yHNImd2LzCZ"
      },
      "execution_count": 2,
      "outputs": []
    },
    {
      "cell_type": "code",
      "execution_count": 3,
      "metadata": {
        "id": "rNl-KUMDLhnD"
      },
      "outputs": [],
      "source": [
        "hat=pd.DataFrame({'hatchery':['A','B','C','D','E','F','G'],\n",
        "                  'chicks':[30,30,29,26,24,28,27]})"
      ]
    },
    {
      "cell_type": "code",
      "source": [
        "hat.head(3)"
      ],
      "metadata": {
        "id": "VMeRwLlULlFx"
      },
      "execution_count": null,
      "outputs": []
    },
    {
      "cell_type": "code",
      "source": [
        "df=hat.copy()"
      ],
      "metadata": {
        "id": "cpKgov5UL5DR"
      },
      "execution_count": 5,
      "outputs": []
    },
    {
      "cell_type": "code",
      "source": [
        "df.head(3)"
      ],
      "metadata": {
        "id": "xS2QXy8EMG1x"
      },
      "execution_count": null,
      "outputs": []
    },
    {
      "cell_type": "code",
      "source": [
        "dic_list=df.to_dict('list')\n",
        "dic_list"
      ],
      "metadata": {
        "id": "C7DdNXdGMI1x"
      },
      "execution_count": null,
      "outputs": []
    },
    {
      "cell_type": "code",
      "source": [
        "dic_series=df.to_dict('series')\n",
        "dic_series"
      ],
      "metadata": {
        "id": "UPU9PAdNMNJZ"
      },
      "execution_count": null,
      "outputs": []
    },
    {
      "cell_type": "code",
      "source": [
        "dic_split=df.to_dict('split')\n",
        "dic_split"
      ],
      "metadata": {
        "id": "F5lBgLccMv9Z"
      },
      "execution_count": null,
      "outputs": []
    },
    {
      "cell_type": "code",
      "source": [
        "dic_records=df.to_dict('records')\n",
        "dic_records"
      ],
      "metadata": {
        "id": "sDhw8SSWNFVx"
      },
      "execution_count": null,
      "outputs": []
    },
    {
      "cell_type": "code",
      "source": [
        "dic_index=df.to_dict('index')\n",
        "dic_index"
      ],
      "metadata": {
        "id": "x7EPTqA2SNVN"
      },
      "execution_count": null,
      "outputs": []
    },
    {
      "cell_type": "code",
      "source": [],
      "metadata": {
        "id": "pXv2fR9vSoOE"
      },
      "execution_count": null,
      "outputs": []
    }
  ]
}