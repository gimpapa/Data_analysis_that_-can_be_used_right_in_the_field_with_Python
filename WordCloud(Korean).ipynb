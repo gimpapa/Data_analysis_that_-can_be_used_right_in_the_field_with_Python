{
  "nbformat": 4,
  "nbformat_minor": 0,
  "metadata": {
    "colab": {
      "provenance": [],
      "authorship_tag": "ABX9TyMRkPY4x+n5Je3kzh7Ch/yF",
      "include_colab_link": true
    },
    "kernelspec": {
      "name": "python3",
      "display_name": "Python 3"
    },
    "language_info": {
      "name": "python"
    }
  },
  "cells": [
    {
      "cell_type": "markdown",
      "metadata": {
        "id": "view-in-github",
        "colab_type": "text"
      },
      "source": [
        "<a href=\"https://colab.research.google.com/github/gimpapa/Data_analysis_that_can_be_used_right_in_the_field_with_Python/blob/main/WordCloud(Korean).ipynb\" target=\"_parent\"><img src=\"https://colab.research.google.com/assets/colab-badge.svg\" alt=\"Open In Colab\"/></a>"
      ]
    },
    {
      "cell_type": "markdown",
      "source": [
        "# Open a file"
      ],
      "metadata": {
        "id": "ZT5Rb1721ZbG"
      }
    },
    {
      "cell_type": "code",
      "source": [
        "from google.colab import drive\n",
        "drive.mount('/content/gdrive')"
      ],
      "metadata": {
        "id": "GBmWCrDb3Wnt"
      },
      "execution_count": null,
      "outputs": []
    },
    {
      "cell_type": "code",
      "source": [
        "txt=open('/content/gdrive/My Drive/Colab Notebooks/review_word_cloud.txt').read()"
      ],
      "metadata": {
        "id": "I_BGY8aX3lNu"
      },
      "execution_count": 8,
      "outputs": []
    },
    {
      "cell_type": "code",
      "source": [
        "txt"
      ],
      "metadata": {
        "id": "Yu2oA4mH33OO"
      },
      "execution_count": null,
      "outputs": []
    },
    {
      "cell_type": "markdown",
      "source": [
        "# Extract nouns"
      ],
      "metadata": {
        "id": "4uOdP_sy4rzt"
      }
    },
    {
      "cell_type": "code",
      "source": [
        "!pip install konlpy"
      ],
      "metadata": {
        "id": "XcAuH6pT5ifd"
      },
      "execution_count": null,
      "outputs": []
    },
    {
      "cell_type": "code",
      "source": [
        "from wordcloud import WordCloud\n",
        "from collections import Counter\n",
        "from konlpy.tag import Hannanum"
      ],
      "metadata": {
        "id": "PcyfIEBz4rUc"
      },
      "execution_count": 13,
      "outputs": []
    },
    {
      "cell_type": "code",
      "source": [
        "n=Hannanum().nouns(txt)"
      ],
      "metadata": {
        "id": "hGJ4OK4D4DYN"
      },
      "execution_count": 14,
      "outputs": []
    },
    {
      "cell_type": "code",
      "source": [
        "n[0:5]"
      ],
      "metadata": {
        "id": "TTMWYuki4qBt"
      },
      "execution_count": null,
      "outputs": []
    },
    {
      "cell_type": "code",
      "source": [
        "len(n)"
      ],
      "metadata": {
        "id": "SIY9H69d5uYt"
      },
      "execution_count": null,
      "outputs": []
    },
    {
      "cell_type": "code",
      "source": [
        "n2=[item for item in n if len(item)>=2] # extract objects of length 2 or more"
      ],
      "metadata": {
        "id": "dc-mhh4C50Z2"
      },
      "execution_count": 17,
      "outputs": []
    },
    {
      "cell_type": "code",
      "source": [
        "len(n2)"
      ],
      "metadata": {
        "id": "eVmI1iq_6FBV"
      },
      "execution_count": null,
      "outputs": []
    },
    {
      "cell_type": "code",
      "source": [
        "cnt=Counter(n2) # frequency by noun"
      ],
      "metadata": {
        "id": "iu7ycCJE6G3N"
      },
      "execution_count": 25,
      "outputs": []
    },
    {
      "cell_type": "code",
      "source": [
        "cnt.most_common()[0:10]"
      ],
      "metadata": {
        "id": "_LqZyY1z6LZ-"
      },
      "execution_count": null,
      "outputs": []
    },
    {
      "cell_type": "code",
      "source": [
        "n.index('재구')"
      ],
      "metadata": {
        "id": "KH7QD18y6ioE"
      },
      "execution_count": null,
      "outputs": []
    },
    {
      "cell_type": "code",
      "source": [
        "n[14]='재구매'"
      ],
      "metadata": {
        "id": "3tBMOHet6pav"
      },
      "execution_count": 22,
      "outputs": []
    },
    {
      "cell_type": "code",
      "source": [
        "n[14]"
      ],
      "metadata": {
        "id": "V1Wo-5CN6zrc"
      },
      "execution_count": null,
      "outputs": []
    },
    {
      "cell_type": "code",
      "source": [
        "n_2=[item for item in n if len(item)>=2]"
      ],
      "metadata": {
        "id": "yWDhFSzQ7F20"
      },
      "execution_count": 27,
      "outputs": []
    },
    {
      "cell_type": "code",
      "source": [
        "cnt_n_2=Counter(n_2)"
      ],
      "metadata": {
        "id": "-XQ6R0Ju7KcM"
      },
      "execution_count": 28,
      "outputs": []
    },
    {
      "cell_type": "code",
      "source": [
        "cnt_n_2.most_common()[0:10]"
      ],
      "metadata": {
        "id": "PIaYXAa36tQf"
      },
      "execution_count": null,
      "outputs": []
    },
    {
      "cell_type": "markdown",
      "source": [
        "# Setting font"
      ],
      "metadata": {
        "id": "Z3Fm2x627anD"
      }
    },
    {
      "cell_type": "code",
      "source": [
        "!apt-get update -qq\n",
        "!apt-get install fonts-nanum* -qq"
      ],
      "metadata": {
        "id": "XprXLaAV9uhc"
      },
      "execution_count": null,
      "outputs": []
    },
    {
      "cell_type": "code",
      "source": [
        "wcs=WordCloud(font_path='/usr/share/fonts/truetype/nanum/NanumGothicEco.ttf',background_color='white')"
      ],
      "metadata": {
        "id": "sGZ2rYCq6wX9"
      },
      "execution_count": 38,
      "outputs": []
    },
    {
      "cell_type": "markdown",
      "source": [
        "# Word Cloud"
      ],
      "metadata": {
        "id": "EqG2Dmma72a0"
      }
    },
    {
      "cell_type": "code",
      "source": [
        "cloud=wcs.generate_from_frequencies(cnt_n_2)"
      ],
      "metadata": {
        "id": "2kas4g3k7srl"
      },
      "execution_count": 39,
      "outputs": []
    },
    {
      "cell_type": "code",
      "source": [
        "import matplotlib.font_manager as fm\n",
        "import matplotlib.pyplot as plt"
      ],
      "metadata": {
        "id": "pFKfckmF8AHW"
      },
      "execution_count": 40,
      "outputs": []
    },
    {
      "cell_type": "code",
      "source": [
        "plt.figure(figsize=(10,8))\n",
        "plt.axis('off')\n",
        "plt.imshow(cloud)\n",
        "plt.show()"
      ],
      "metadata": {
        "id": "1fRbhgzv-dpU"
      },
      "execution_count": null,
      "outputs": []
    },
    {
      "cell_type": "code",
      "source": [],
      "metadata": {
        "id": "6bj3THeD-kDU"
      },
      "execution_count": null,
      "outputs": []
    }
  ]
}