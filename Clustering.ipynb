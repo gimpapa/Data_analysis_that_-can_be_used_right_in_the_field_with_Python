{
  "nbformat": 4,
  "nbformat_minor": 0,
  "metadata": {
    "colab": {
      "provenance": [],
      "mount_file_id": "1IZz63BPtV-4KapDGscc4xvFLixVS5-0n",
      "authorship_tag": "ABX9TyNICnzihbpm1kPoy45hFvcv",
      "include_colab_link": true
    },
    "kernelspec": {
      "name": "python3",
      "display_name": "Python 3"
    },
    "language_info": {
      "name": "python"
    }
  },
  "cells": [
    {
      "cell_type": "markdown",
      "metadata": {
        "id": "view-in-github",
        "colab_type": "text"
      },
      "source": [
        "<a href=\"https://colab.research.google.com/github/gimpapa/Data_analysis_that_can_be_used_right_in_the_field_with_Python/blob/main/Clustering.ipynb\" target=\"_parent\"><img src=\"https://colab.research.google.com/assets/colab-badge.svg\" alt=\"Open In Colab\"/></a>"
      ]
    },
    {
      "cell_type": "markdown",
      "source": [
        "# k-Means Clustering\n"
      ],
      "metadata": {
        "id": "Qdh1-0geIs2_"
      }
    },
    {
      "cell_type": "code",
      "source": [
        "from google.colab import drive\n",
        "drive.mount('/content/gdrive')"
      ],
      "metadata": {
        "id": "GKKQv32fJs-N"
      },
      "execution_count": null,
      "outputs": []
    },
    {
      "cell_type": "code",
      "execution_count": 2,
      "metadata": {
        "id": "Iio2qunJGAht"
      },
      "outputs": [],
      "source": [
        "import pandas as pd"
      ]
    },
    {
      "cell_type": "markdown",
      "source": [
        "# Data Load\n",
        "- clustering_data_set.csv"
      ],
      "metadata": {
        "id": "QZw8b1LgJwyl"
      }
    },
    {
      "cell_type": "code",
      "source": [
        "clustering_data_set=pd.read_csv('/content/gdrive/My Drive/Colab Notebooks/clustering_data_set.csv')"
      ],
      "metadata": {
        "id": "c0CHepGIJDXv"
      },
      "execution_count": 3,
      "outputs": []
    },
    {
      "cell_type": "code",
      "source": [
        "clustering_data_set.info()"
      ],
      "metadata": {
        "id": "GknfgH5rJ9p2"
      },
      "execution_count": null,
      "outputs": []
    },
    {
      "cell_type": "code",
      "source": [
        "clustering_data_set.head()"
      ],
      "metadata": {
        "id": "thsgvt47KB1d"
      },
      "execution_count": null,
      "outputs": []
    },
    {
      "cell_type": "code",
      "source": [
        "clustering_data_set.describe()"
      ],
      "metadata": {
        "id": "M4zK92bLKEfW"
      },
      "execution_count": null,
      "outputs": []
    },
    {
      "cell_type": "code",
      "source": [
        "import matplotlib.pyplot as plt"
      ],
      "metadata": {
        "id": "AHcdTFZIMDJd"
      },
      "execution_count": 7,
      "outputs": []
    },
    {
      "cell_type": "code",
      "source": [
        "plt.figure(figsize=(10,7))\n",
        "plt.scatter(x=clustering_data_set['food'],y=clustering_data_set['weight'])\n",
        "plt.show()"
      ],
      "metadata": {
        "id": "iu7DIlZuOzJQ"
      },
      "execution_count": null,
      "outputs": []
    },
    {
      "cell_type": "markdown",
      "source": [
        "# KMeans : Divide into 3 clusters.\n",
        "- fit()\n",
        "- labels_"
      ],
      "metadata": {
        "id": "73wmnGLTPjYH"
      }
    },
    {
      "cell_type": "code",
      "source": [
        "from sklearn.cluster import KMeans"
      ],
      "metadata": {
        "id": "k8oYMzZcPBIZ"
      },
      "execution_count": 10,
      "outputs": []
    },
    {
      "cell_type": "code",
      "source": [
        "clustering_data_set_n=clustering_data_set.iloc[:,1:3].values"
      ],
      "metadata": {
        "id": "XMK-kMfIPQGM"
      },
      "execution_count": 12,
      "outputs": []
    },
    {
      "cell_type": "code",
      "source": [
        "clustering_data_set_n"
      ],
      "metadata": {
        "id": "G6I_5MsYQ4jQ"
      },
      "execution_count": null,
      "outputs": []
    },
    {
      "cell_type": "code",
      "source": [
        "clustering_data_set_km=KMeans(n_clusters=3).fit(clustering_data_set_n)"
      ],
      "metadata": {
        "id": "IiOlehudREHW"
      },
      "execution_count": 15,
      "outputs": []
    },
    {
      "cell_type": "code",
      "source": [
        "clustering_data_set_km.labels_"
      ],
      "metadata": {
        "id": "xnyEwYHZRejf"
      },
      "execution_count": null,
      "outputs": []
    },
    {
      "cell_type": "code",
      "source": [
        "import numpy as np"
      ],
      "metadata": {
        "id": "saOLPvZnRj2f"
      },
      "execution_count": 17,
      "outputs": []
    },
    {
      "cell_type": "code",
      "source": [
        "np.unique(clustering_data_set_km.labels_,return_counts=True)"
      ],
      "metadata": {
        "id": "QSXigOmDRoR3"
      },
      "execution_count": null,
      "outputs": []
    },
    {
      "cell_type": "code",
      "source": [
        "plt.figure(figsize=(10,7))\n",
        "plt.scatter(x=clustering_data_set['food'],y=clustering_data_set['weight'],\n",
        "            c=clustering_data_set_km.labels_)\n",
        "plt.show()"
      ],
      "metadata": {
        "id": "o_kB0u4bRx__"
      },
      "execution_count": null,
      "outputs": []
    },
    {
      "cell_type": "code",
      "source": [],
      "metadata": {
        "id": "eMgnuGtuR5ff"
      },
      "execution_count": null,
      "outputs": []
    }
  ]
}