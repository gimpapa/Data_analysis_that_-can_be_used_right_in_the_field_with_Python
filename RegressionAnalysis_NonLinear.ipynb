{
  "nbformat": 4,
  "nbformat_minor": 0,
  "metadata": {
    "colab": {
      "provenance": [],
      "authorship_tag": "ABX9TyMC6MYFRQSLBBnBw5u5EtG9",
      "include_colab_link": true
    },
    "kernelspec": {
      "name": "python3",
      "display_name": "Python 3"
    },
    "language_info": {
      "name": "python"
    }
  },
  "cells": [
    {
      "cell_type": "markdown",
      "metadata": {
        "id": "view-in-github",
        "colab_type": "text"
      },
      "source": [
        "<a href=\"https://colab.research.google.com/github/gimpapa/Data_analysis_that_can_be_used_right_in_the_field_with_Python/blob/main/RegressionAnalysis_NonLinear.ipynb\" target=\"_parent\"><img src=\"https://colab.research.google.com/assets/colab-badge.svg\" alt=\"Open In Colab\"/></a>"
      ]
    },
    {
      "cell_type": "code",
      "execution_count": 1,
      "metadata": {
        "id": "N3Dw-ejnlX8m"
      },
      "outputs": [],
      "source": [
        "import pandas as pd"
      ]
    },
    {
      "cell_type": "markdown",
      "source": [
        "# Readme\n",
        "- Chick weight change according to growth period"
      ],
      "metadata": {
        "id": "nK9ix87k6iP7"
      }
    },
    {
      "cell_type": "code",
      "source": [
        "chick_weight=pd.DataFrame({'day': [1,  2,  3,  4,  5,  6,  7,  8,  9,  10,\n",
        "                                  11,  12,  13,  14,  15,  16,  17,  18,  19,  20,\n",
        "                                  21,  22,  23,  24,  25,  26,  27,  28,  29,  30,\n",
        "                                  31,  32,  33,  34,  35,  36,  37,  38,  39,  40,\n",
        "                                  41,  42,  43,  44,  45,  46,  47,  48,  49,  50,\n",
        "                                  51,  52,  53,  54,  55,  56,  57,  58,  59,  60,\n",
        "                                  61,  62,  63,  64,  65,  66,  67,  68,  69,  70],\n",
        "                        'weight': [43,  55,  69,  86,  104,  124,  147,  172,  200,  229,\n",
        "                                  262,  297,  334,  374,  417,  463,  510,  560,  613,  667,\n",
        "                                  723,  782,  843,  906,  970,  1036,  1103,  1172,  1242,  1313,\n",
        "                                 1384,  1457,  1531,  1605,  1684,  1764,  1839,  1914,  1990,  2065,\n",
        "                                 2140,  2215,  2289,  2363,  2438,  2510,  2583,  2654,  2725,  2795,\n",
        "                                 2855,  2910,  2960,  3005,  3045,  3080,  3110,  3135,  3155,  3170,\n",
        "                                 3184,  3197,  3209,  3220,  3230,  3239,  3247,  3254,  3260,  3265]})"
      ],
      "metadata": {
        "id": "ClRhh2II53ts"
      },
      "execution_count": 6,
      "outputs": []
    },
    {
      "cell_type": "code",
      "source": [
        "chick_weight.head()"
      ],
      "metadata": {
        "id": "rAG_VlZX6byu"
      },
      "execution_count": null,
      "outputs": []
    },
    {
      "cell_type": "code",
      "source": [
        "chick_weight.info()"
      ],
      "metadata": {
        "id": "aDRJPRZd62Qt"
      },
      "execution_count": null,
      "outputs": []
    },
    {
      "cell_type": "code",
      "source": [
        "import matplotlib.pyplot as plt"
      ],
      "metadata": {
        "id": "PgeC_cCH64pU"
      },
      "execution_count": 9,
      "outputs": []
    },
    {
      "cell_type": "code",
      "source": [
        "plt.figure(figsize=(10,6))\n",
        "plt.scatter(chick_weight.day,chick_weight.weight,alpha=.5)\n",
        "plt.title('Scatter Plot')\n",
        "plt.xlabel('day')\n",
        "plt.ylabel('weight')\n",
        "plt.show()"
      ],
      "metadata": {
        "id": "TqEf7W2L7BTM"
      },
      "execution_count": null,
      "outputs": []
    },
    {
      "cell_type": "markdown",
      "source": [
        "# Trying non-linear regression with a cubic function"
      ],
      "metadata": {
        "id": "GxK5e4z17_FT"
      }
    },
    {
      "cell_type": "code",
      "source": [
        "import statsmodels.formula.api as smf"
      ],
      "metadata": {
        "id": "2oMMjs697Oxk"
      },
      "execution_count": 16,
      "outputs": []
    },
    {
      "cell_type": "code",
      "source": [
        "model_nlr=smf.ols(formula='weight~I(day**3)+I(day**2)+day',data=chick_weight)"
      ],
      "metadata": {
        "id": "qph9nKj18hH8"
      },
      "execution_count": 19,
      "outputs": []
    },
    {
      "cell_type": "code",
      "source": [
        "result_nlr=model_nlr.fit()"
      ],
      "metadata": {
        "id": "V9RhhgD884cj"
      },
      "execution_count": 20,
      "outputs": []
    },
    {
      "cell_type": "code",
      "source": [
        "print(result_nlr.summary())"
      ],
      "metadata": {
        "id": "3_00BnZL9Fhk"
      },
      "execution_count": null,
      "outputs": []
    },
    {
      "cell_type": "code",
      "source": [
        "# y      =  (    a * x^3 ) +   (  b * x^2 ) +    ( c * x ) + d\n",
        "# weight = -0.0253 * day^3 + 2.6241 * day^2 -15.2978 * day + 117.0141"
      ],
      "metadata": {
        "id": "ebGxAoKd9IMV"
      },
      "execution_count": 22,
      "outputs": []
    },
    {
      "cell_type": "code",
      "source": [
        "plt.figure(figsize=(10,6))\n",
        "plt.scatter(chick_weight.day,chick_weight.weight,alpha=.5)\n",
        "plt.plot(chick_weight.day,\n",
        "         (-0.0253)*(chick_weight.day**3)\n",
        "         +(2.6241)*(chick_weight.day**2)\n",
        "         +(-15.2978)*(chick_weight.day)\n",
        "         +117.0141,\n",
        "         color='red')\n",
        "plt.xlabel('day')\n",
        "plt.ylabel('weight')\n",
        "plt.show()"
      ],
      "metadata": {
        "id": "WdHz8hIm-MLE"
      },
      "execution_count": null,
      "outputs": []
    },
    {
      "cell_type": "code",
      "source": [],
      "metadata": {
        "id": "_b1BAR-c-SHb"
      },
      "execution_count": null,
      "outputs": []
    }
  ]
}