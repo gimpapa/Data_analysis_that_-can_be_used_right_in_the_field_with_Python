{
  "nbformat": 4,
  "nbformat_minor": 0,
  "metadata": {
    "colab": {
      "provenance": [],
      "authorship_tag": "ABX9TyNFW3sWHpI6PeOYypDSdXqn",
      "include_colab_link": true
    },
    "kernelspec": {
      "name": "python3",
      "display_name": "Python 3"
    },
    "language_info": {
      "name": "python"
    }
  },
  "cells": [
    {
      "cell_type": "markdown",
      "metadata": {
        "id": "view-in-github",
        "colab_type": "text"
      },
      "source": [
        "<a href=\"https://colab.research.google.com/github/gimpapa/Data_analysis_that_can_be_used_right_in_the_field_with_Python/blob/main/handling_missing_data.ipynb\" target=\"_parent\"><img src=\"https://colab.research.google.com/assets/colab-badge.svg\" alt=\"Open In Colab\"/></a>"
      ]
    },
    {
      "cell_type": "code",
      "execution_count": 72,
      "metadata": {
        "id": "x1d-BFzdCEIe"
      },
      "outputs": [],
      "source": [
        "import pandas as pd\n",
        "import seaborn as sns\n",
        "import numpy as np"
      ]
    },
    {
      "cell_type": "markdown",
      "source": [
        "# Load penguins dataset."
      ],
      "metadata": {
        "id": "OPk91TikbMps"
      }
    },
    {
      "cell_type": "code",
      "source": [
        "pgs=sns.load_dataset('penguins')"
      ],
      "metadata": {
        "id": "CFEfizFXCN1F"
      },
      "execution_count": 73,
      "outputs": []
    },
    {
      "cell_type": "markdown",
      "source": [
        "# Look at the data and missing values.\n",
        "\n"
      ],
      "metadata": {
        "id": "5yVYiYgobd7E"
      }
    },
    {
      "cell_type": "code",
      "source": [
        "pgs.info() # If you look at 'Non-Null Count',\n",
        "           #  you can see how many missing values\n",
        "           #  are in which column in the execution result."
      ],
      "metadata": {
        "id": "Q9qXafJjCYBV"
      },
      "execution_count": null,
      "outputs": []
    },
    {
      "cell_type": "code",
      "source": [
        "pgs.head(10)"
      ],
      "metadata": {
        "id": "qEgprl_9CZhc"
      },
      "execution_count": null,
      "outputs": []
    },
    {
      "cell_type": "code",
      "source": [
        "pgs.head(10).isnull() # If missing, True"
      ],
      "metadata": {
        "id": "iA3Ru63uClg7"
      },
      "execution_count": null,
      "outputs": []
    },
    {
      "cell_type": "code",
      "source": [
        "pgs.head(10).isnull().sum() # How many missing values in a column"
      ],
      "metadata": {
        "id": "MaFzxTTjEkB-"
      },
      "execution_count": null,
      "outputs": []
    },
    {
      "cell_type": "markdown",
      "source": [
        "# Delete rows or columns with missing values."
      ],
      "metadata": {
        "id": "5Hp6P-PBbvr7"
      }
    },
    {
      "cell_type": "code",
      "source": [
        "pgs_dropna_row=pgs.head(10).dropna(axis=0) # axis=0, delete row"
      ],
      "metadata": {
        "id": "L6zDGA-LE5wu"
      },
      "execution_count": 78,
      "outputs": []
    },
    {
      "cell_type": "code",
      "source": [
        "pgs_dropna_row # compare with pgs.head(10)"
      ],
      "metadata": {
        "id": "-ItvZo6Y_WQ1"
      },
      "execution_count": null,
      "outputs": []
    },
    {
      "cell_type": "code",
      "source": [
        "pgs_dropna_col=pgs.head(10).dropna(axis=1) # axis=1, delete col"
      ],
      "metadata": {
        "id": "Ej4cwszo_mqP"
      },
      "execution_count": 80,
      "outputs": []
    },
    {
      "cell_type": "code",
      "source": [
        "pgs_dropna_col"
      ],
      "metadata": {
        "id": "h7XJNwbVAKUn"
      },
      "execution_count": null,
      "outputs": []
    },
    {
      "cell_type": "markdown",
      "source": [
        "# Fill in missing values with mean()"
      ],
      "metadata": {
        "id": "-p3pf6h3cFVk"
      }
    },
    {
      "cell_type": "code",
      "source": [
        "pgs_head=pgs.head(10)"
      ],
      "metadata": {
        "id": "a_ROTCUqAMZO"
      },
      "execution_count": 82,
      "outputs": []
    },
    {
      "cell_type": "code",
      "source": [
        "pgs_head"
      ],
      "metadata": {
        "id": "C6GyFbC-MeHV"
      },
      "execution_count": null,
      "outputs": []
    },
    {
      "cell_type": "code",
      "source": [
        "pgs_head['flipper_length_mm'].mean()"
      ],
      "metadata": {
        "id": "hkCyumO6MowD"
      },
      "execution_count": null,
      "outputs": []
    },
    {
      "cell_type": "code",
      "source": [
        "pgs_mean=pgs_head['flipper_length_mm'].mean()"
      ],
      "metadata": {
        "id": "Q0PoP1pAOq4b"
      },
      "execution_count": 85,
      "outputs": []
    },
    {
      "cell_type": "code",
      "source": [
        "int(pgs_mean)"
      ],
      "metadata": {
        "id": "bLjGYmg3OyDK"
      },
      "execution_count": null,
      "outputs": []
    },
    {
      "cell_type": "code",
      "source": [
        "pgs_head['flipper_length_mm']"
      ],
      "metadata": {
        "id": "HCAZo6pZPehr"
      },
      "execution_count": null,
      "outputs": []
    },
    {
      "cell_type": "code",
      "source": [
        "pgs_head['flipper_length_mm']=pgs_head['flipper_length_mm'].fillna(int(pgs_mean)) # ignore Warning"
      ],
      "metadata": {
        "id": "cC0KyDHLNttM"
      },
      "execution_count": null,
      "outputs": []
    },
    {
      "cell_type": "code",
      "source": [
        "pgs_head['flipper_length_mm']"
      ],
      "metadata": {
        "id": "P2gQdRrJOEKj"
      },
      "execution_count": null,
      "outputs": []
    },
    {
      "cell_type": "markdown",
      "source": [
        "# Fill in missing values with median()"
      ],
      "metadata": {
        "id": "SpqaiKz5cc68"
      }
    },
    {
      "cell_type": "code",
      "source": [
        "pgs_head"
      ],
      "metadata": {
        "id": "AdTKFmbmRAX0"
      },
      "execution_count": null,
      "outputs": []
    },
    {
      "cell_type": "code",
      "source": [
        "  pgs_head['body_mass_g'].median()"
      ],
      "metadata": {
        "id": "XBKKTfFoRCfc"
      },
      "execution_count": null,
      "outputs": []
    },
    {
      "cell_type": "code",
      "source": [
        "pgs_head_median=pgs_head['body_mass_g'].median()"
      ],
      "metadata": {
        "id": "CPd6f4WWS_2j"
      },
      "execution_count": 92,
      "outputs": []
    },
    {
      "cell_type": "code",
      "source": [
        "pgs_head['body_mass_g']"
      ],
      "metadata": {
        "id": "tY8YbjkCTGD8"
      },
      "execution_count": null,
      "outputs": []
    },
    {
      "cell_type": "code",
      "source": [
        "pgs_head['body_mass_g']=pgs_head['body_mass_g'].fillna(pgs_head_median)"
      ],
      "metadata": {
        "id": "Ueot47_WTLS0"
      },
      "execution_count": null,
      "outputs": []
    },
    {
      "cell_type": "code",
      "source": [
        "pgs_head['body_mass_g']"
      ],
      "metadata": {
        "id": "lrJczhnkTS30"
      },
      "execution_count": null,
      "outputs": []
    },
    {
      "cell_type": "code",
      "source": [
        "pgs_head"
      ],
      "metadata": {
        "id": "rVCkcfmbTUY9"
      },
      "execution_count": null,
      "outputs": []
    },
    {
      "cell_type": "code",
      "source": [],
      "metadata": {
        "id": "mLCZuFHqTWLa"
      },
      "execution_count": 96,
      "outputs": []
    }
  ]
}