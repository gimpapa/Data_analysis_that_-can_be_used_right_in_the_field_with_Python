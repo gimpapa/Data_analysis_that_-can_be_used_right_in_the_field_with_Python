{
  "nbformat": 4,
  "nbformat_minor": 0,
  "metadata": {
    "colab": {
      "provenance": [],
      "authorship_tag": "ABX9TyMwcP4Y/m5W2qkPRH4HkTtr",
      "include_colab_link": true
    },
    "kernelspec": {
      "name": "python3",
      "display_name": "Python 3"
    },
    "language_info": {
      "name": "python"
    }
  },
  "cells": [
    {
      "cell_type": "markdown",
      "metadata": {
        "id": "view-in-github",
        "colab_type": "text"
      },
      "source": [
        "<a href=\"https://colab.research.google.com/github/gimpapa/Data_analysis_that_can_be_used_right_in_the_field_with_Python/blob/main/SentiWord(Korean).ipynb\" target=\"_parent\"><img src=\"https://colab.research.google.com/assets/colab-badge.svg\" alt=\"Open In Colab\"/></a>"
      ]
    },
    {
      "cell_type": "markdown",
      "source": [
        "# Open Korean Emotional Dictionary by KNU"
      ],
      "metadata": {
        "id": "cYh8TL2a_RO8"
      }
    },
    {
      "cell_type": "code",
      "execution_count": null,
      "metadata": {
        "id": "62jrOCwO_HZu"
      },
      "outputs": [],
      "source": [
        "from google.colab import drive\n",
        "drive.mount('/content/gdrive')"
      ]
    },
    {
      "cell_type": "code",
      "source": [
        "import pandas as pd"
      ],
      "metadata": {
        "id": "Nzxzp15mBbEj"
      },
      "execution_count": 4,
      "outputs": []
    },
    {
      "cell_type": "code",
      "source": [
        "senti_dic=pd.read_csv('/content/gdrive/My Drive/Colab Notebooks/SentiWord_Dict.txt',sep='\\t',encoding='utf-8',header=None)"
      ],
      "metadata": {
        "id": "_P1HBLzsBDC1"
      },
      "execution_count": 5,
      "outputs": []
    },
    {
      "cell_type": "code",
      "source": [
        "senti_dic.head()"
      ],
      "metadata": {
        "id": "FrCj0bG5BPyz"
      },
      "execution_count": null,
      "outputs": []
    },
    {
      "cell_type": "code",
      "source": [
        "senti_dic.columns=['word','score']"
      ],
      "metadata": {
        "id": "FF--ekDuBvTU"
      },
      "execution_count": 8,
      "outputs": []
    },
    {
      "cell_type": "code",
      "source": [
        "senti_dic.head()"
      ],
      "metadata": {
        "id": "gO2r0GzrB30c"
      },
      "execution_count": null,
      "outputs": []
    },
    {
      "cell_type": "code",
      "source": [
        "senti_dic.tail()"
      ],
      "metadata": {
        "id": "-PV-ZSr1B5oc"
      },
      "execution_count": null,
      "outputs": []
    },
    {
      "cell_type": "code",
      "source": [
        "senti_dic[senti_dic['score'].isnull()]"
      ],
      "metadata": {
        "id": "6ek_vtcaB8oc"
      },
      "execution_count": null,
      "outputs": []
    },
    {
      "cell_type": "code",
      "source": [
        "senti_dic.iloc[14850]"
      ],
      "metadata": {
        "id": "MdaqC5fWCBi8"
      },
      "execution_count": null,
      "outputs": []
    },
    {
      "cell_type": "code",
      "source": [
        "senti_dic.loc[14850,'word']='갈등'\n",
        "senti_dic.loc[14850,'score']=-1"
      ],
      "metadata": {
        "id": "kvoWln10DREz"
      },
      "execution_count": 16,
      "outputs": []
    },
    {
      "cell_type": "code",
      "source": [
        "senti_dic.iloc[14850]"
      ],
      "metadata": {
        "id": "xDItBR_qDtYz"
      },
      "execution_count": null,
      "outputs": []
    },
    {
      "cell_type": "code",
      "source": [
        "senti_dic.isnull().sum()"
      ],
      "metadata": {
        "id": "rt9HWf7eDwZc"
      },
      "execution_count": null,
      "outputs": []
    },
    {
      "cell_type": "markdown",
      "source": [
        "# Open a txt file"
      ],
      "metadata": {
        "id": "KO9Yc7ojEeIL"
      }
    },
    {
      "cell_type": "code",
      "source": [
        "txt=open('/content/gdrive/My Drive/Colab Notebooks/review_word_cloud.txt').readlines()"
      ],
      "metadata": {
        "id": "QrlatgJ-DzSc"
      },
      "execution_count": 20,
      "outputs": []
    },
    {
      "cell_type": "code",
      "source": [
        "txt[0:5]"
      ],
      "metadata": {
        "id": "47SnMgduElg7"
      },
      "execution_count": null,
      "outputs": []
    },
    {
      "cell_type": "markdown",
      "source": [
        "# CountVectorizer()"
      ],
      "metadata": {
        "id": "xq9y7LoJExLD"
      }
    },
    {
      "cell_type": "code",
      "source": [
        "from sklearn.feature_extraction.text import CountVectorizer"
      ],
      "metadata": {
        "id": "Dm55QuIBEp9L"
      },
      "execution_count": 23,
      "outputs": []
    },
    {
      "cell_type": "code",
      "source": [
        "vector=CountVectorizer()"
      ],
      "metadata": {
        "id": "0lpVV7dJE90L"
      },
      "execution_count": 24,
      "outputs": []
    },
    {
      "cell_type": "code",
      "source": [
        "bow=vector.fit_transform(txt)"
      ],
      "metadata": {
        "id": "vJ2IYD7pFFcK"
      },
      "execution_count": 25,
      "outputs": []
    },
    {
      "cell_type": "code",
      "source": [
        "term=vector.get_feature_names()"
      ],
      "metadata": {
        "id": "8D9T2gwVGa6z"
      },
      "execution_count": null,
      "outputs": []
    },
    {
      "cell_type": "code",
      "source": [
        "import pandas as pd"
      ],
      "metadata": {
        "id": "wCVr2JspGhbN"
      },
      "execution_count": 27,
      "outputs": []
    },
    {
      "cell_type": "code",
      "source": [
        "dtm=pd.DataFrame.sparse.from_spmatrix(data=bow,columns=term)"
      ],
      "metadata": {
        "id": "oGTSWNSXGnp-"
      },
      "execution_count": 28,
      "outputs": []
    },
    {
      "cell_type": "code",
      "source": [
        "dtm.shape"
      ],
      "metadata": {
        "id": "LI4SBBdtGxNL"
      },
      "execution_count": null,
      "outputs": []
    },
    {
      "cell_type": "code",
      "source": [
        "dtm"
      ],
      "metadata": {
        "id": "lx_vdBLAGyti"
      },
      "execution_count": null,
      "outputs": []
    },
    {
      "cell_type": "markdown",
      "source": [
        "# Write code that can evaluate sentiment scores.\n",
        "- If the word is in the sentiment dictionary, take the score and multiply it by the count value."
      ],
      "metadata": {
        "id": "zljDwsvFHCHC"
      }
    },
    {
      "cell_type": "code",
      "source": [
        "ds=[]\n",
        "for i in range(dtm.shape[0]):\n",
        "    d=[]\n",
        "    for j in range(dtm.shape[1]):\n",
        "        if dtm.iloc[i,j]>=1:\n",
        "            if senti_dic.loc[senti_dic.word==dtm.columns[j],'score'].empty!=True:\n",
        "                d.append(senti_dic.loc[senti_dic.word==dtm.columns[j],'score'].values[0]*dtm.iloc[i,j])\n",
        "            else:\n",
        "                d.append(0)\n",
        "        else:\n",
        "            d.append(0)\n",
        "    s=sum(d)\n",
        "    ds.append(s)"
      ],
      "metadata": {
        "id": "mQJyTZUoG1rL"
      },
      "execution_count": 31,
      "outputs": []
    },
    {
      "cell_type": "code",
      "source": [
        "ds[0:5]"
      ],
      "metadata": {
        "id": "vebCNaDyIyMc"
      },
      "execution_count": null,
      "outputs": []
    },
    {
      "cell_type": "code",
      "source": [
        "res=pd.DataFrame(list(zip(txt,ds)),columns=['doc','score'])\n",
        "res.head()"
      ],
      "metadata": {
        "id": "s1QAamB1I0ty"
      },
      "execution_count": null,
      "outputs": []
    },
    {
      "cell_type": "markdown",
      "source": [
        "# A review score\n",
        "- greater than 0 is positive,\n",
        "- 0 is neutral,\n",
        "- less than 0 is negative."
      ],
      "metadata": {
        "id": "JwW8kiwvJVQ6"
      }
    },
    {
      "cell_type": "code",
      "source": [
        "pn=[]\n",
        "for row in res['score']:\n",
        "    if row>0:\n",
        "        pn.append('Positive')\n",
        "    elif row==0:\n",
        "        pn.append('Neutral')\n",
        "    else:\n",
        "        pn.append('Negative')"
      ],
      "metadata": {
        "id": "hBBtmtBSJI1b"
      },
      "execution_count": 34,
      "outputs": []
    },
    {
      "cell_type": "code",
      "source": [
        "res['pn']=pn\n",
        "res.head()"
      ],
      "metadata": {
        "id": "hhi_Op8_J-Y6"
      },
      "execution_count": null,
      "outputs": []
    },
    {
      "cell_type": "markdown",
      "source": [
        "# Grouping results by count"
      ],
      "metadata": {
        "id": "XuVndXIxKJOi"
      }
    },
    {
      "cell_type": "code",
      "source": [
        "res_g=res.groupby([pn]).count()\n",
        "res_g"
      ],
      "metadata": {
        "id": "LhEZN576KDiq"
      },
      "execution_count": null,
      "outputs": []
    },
    {
      "cell_type": "code",
      "source": [
        "pct=res_g['pn']/res_g['pn'].sum()"
      ],
      "metadata": {
        "id": "ITWyZz4xKZMS"
      },
      "execution_count": 37,
      "outputs": []
    },
    {
      "cell_type": "code",
      "source": [
        "import matplotlib.pyplot as plt"
      ],
      "metadata": {
        "id": "sAzw9m5eK3R6"
      },
      "execution_count": 39,
      "outputs": []
    },
    {
      "cell_type": "code",
      "source": [
        "plt.figure(figsize=(10,10))\n",
        "plt.pie(pct,labels=res_g.index,autopct='%.1f%%',startangle=0,counterclock=False)\n",
        "plt.show()"
      ],
      "metadata": {
        "id": "HWFpaJ1eKjnq"
      },
      "execution_count": null,
      "outputs": []
    },
    {
      "cell_type": "code",
      "source": [],
      "metadata": {
        "id": "SYZWKvXyK0rs"
      },
      "execution_count": null,
      "outputs": []
    }
  ]
}