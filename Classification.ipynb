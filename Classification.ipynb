{
  "nbformat": 4,
  "nbformat_minor": 0,
  "metadata": {
    "colab": {
      "provenance": [],
      "mount_file_id": "11Ulr-6lw-jPJ4pApJTO-L6igHgIhwpvS",
      "authorship_tag": "ABX9TyPVVwPb1QP5All+m1UMgMf7",
      "include_colab_link": true
    },
    "kernelspec": {
      "name": "python3",
      "display_name": "Python 3"
    },
    "language_info": {
      "name": "python"
    }
  },
  "cells": [
    {
      "cell_type": "markdown",
      "metadata": {
        "id": "view-in-github",
        "colab_type": "text"
      },
      "source": [
        "<a href=\"https://colab.research.google.com/github/gimpapa/Data_analysis_that_can_be_used_right_in_the_field_with_Python/blob/main/Classification.ipynb\" target=\"_parent\"><img src=\"https://colab.research.google.com/assets/colab-badge.svg\" alt=\"Open In Colab\"/></a>"
      ]
    },
    {
      "cell_type": "code",
      "source": [
        "from google.colab import drive\n",
        "drive.mount('/content/gdrive')"
      ],
      "metadata": {
        "id": "-P4d9fkRcaa9"
      },
      "execution_count": null,
      "outputs": []
    },
    {
      "cell_type": "code",
      "execution_count": 2,
      "metadata": {
        "id": "N16J36eMOkR6"
      },
      "outputs": [],
      "source": [
        "import pandas as pd"
      ]
    },
    {
      "cell_type": "markdown",
      "source": [
        "# Data load\n",
        "- train set\n",
        "- test set"
      ],
      "metadata": {
        "id": "Yk3HAnLOS0sl"
      }
    },
    {
      "cell_type": "code",
      "source": [
        "df_train=pd.read_csv('/content/gdrive/My Drive/Colab Notebooks/classification_train_set.csv')\n",
        "df_test=pd.read_csv('/content/gdrive/My Drive/Colab Notebooks/classification_test_set.csv')"
      ],
      "metadata": {
        "id": "jmOjggVzPW6O"
      },
      "execution_count": 3,
      "outputs": []
    },
    {
      "cell_type": "code",
      "source": [
        "df_train.info()"
      ],
      "metadata": {
        "id": "kt3yzkN-PhcG"
      },
      "execution_count": null,
      "outputs": []
    },
    {
      "cell_type": "code",
      "source": [
        "df_test.info()"
      ],
      "metadata": {
        "id": "HOr9yEy6P74m"
      },
      "execution_count": null,
      "outputs": []
    },
    {
      "cell_type": "code",
      "source": [
        "df_train.head()"
      ],
      "metadata": {
        "id": "JI0_RE0WQB7e"
      },
      "execution_count": null,
      "outputs": []
    },
    {
      "cell_type": "markdown",
      "source": [
        "# Seperating independent and dependent variables from Data.\n",
        "- independent variables : wing_length, tail_length, comb_height\n",
        "- dependent variable : breeds"
      ],
      "metadata": {
        "id": "cu7D25SgS_11"
      }
    },
    {
      "cell_type": "code",
      "source": [
        "x_train=df_train.iloc[:,0:3].values"
      ],
      "metadata": {
        "id": "MiNNJfrUQHHu"
      },
      "execution_count": 7,
      "outputs": []
    },
    {
      "cell_type": "code",
      "source": [
        "x_train.shape"
      ],
      "metadata": {
        "id": "m_M-U8dsQu22"
      },
      "execution_count": null,
      "outputs": []
    },
    {
      "cell_type": "code",
      "source": [
        "x_train[0:5,:]"
      ],
      "metadata": {
        "id": "E8kpU5efQvve"
      },
      "execution_count": null,
      "outputs": []
    },
    {
      "cell_type": "code",
      "source": [
        "y_train=df_train.iloc[:,3].values"
      ],
      "metadata": {
        "id": "BwKYot9RQ6Wl"
      },
      "execution_count": 10,
      "outputs": []
    },
    {
      "cell_type": "code",
      "source": [
        "y_train.shape"
      ],
      "metadata": {
        "id": "zKwF73s_RDs-"
      },
      "execution_count": null,
      "outputs": []
    },
    {
      "cell_type": "code",
      "source": [
        "y_train[0:5]"
      ],
      "metadata": {
        "id": "FCfuWvgmRFX2"
      },
      "execution_count": null,
      "outputs": []
    },
    {
      "cell_type": "code",
      "source": [
        "x_test=df_test.iloc[:,0:3].values"
      ],
      "metadata": {
        "id": "D_3-0xMPRKD-"
      },
      "execution_count": 13,
      "outputs": []
    },
    {
      "cell_type": "code",
      "source": [
        "y_test=df_test.iloc[:,3].values"
      ],
      "metadata": {
        "id": "MpiPNrY_RUhd"
      },
      "execution_count": 14,
      "outputs": []
    },
    {
      "cell_type": "markdown",
      "source": [
        "# Naive Bayes Classification\n",
        "- build and train models : fit()\n",
        "- prediction : predict()\n",
        "- evaluation : confusion_matrix(), classification_report()\n"
      ],
      "metadata": {
        "id": "6KveNzz0TtKV"
      }
    },
    {
      "cell_type": "code",
      "source": [
        "from sklearn.naive_bayes import GaussianNB"
      ],
      "metadata": {
        "id": "KVyJDgEDRZyV"
      },
      "execution_count": 98,
      "outputs": []
    },
    {
      "cell_type": "code",
      "source": [
        "model_nb=GaussianNB().fit(x_train,y_train)"
      ],
      "metadata": {
        "id": "k-dTAMWoSV7A"
      },
      "execution_count": 99,
      "outputs": []
    },
    {
      "cell_type": "code",
      "source": [
        "y_pred_nb=model_nb.predict(x_test)\n",
        "y_pred_nb"
      ],
      "metadata": {
        "id": "b3aspP8sSh_O"
      },
      "execution_count": null,
      "outputs": []
    },
    {
      "cell_type": "code",
      "source": [
        "from sklearn.metrics import confusion_matrix"
      ],
      "metadata": {
        "id": "_tP3JJZsU0DW"
      },
      "execution_count": 101,
      "outputs": []
    },
    {
      "cell_type": "code",
      "source": [
        "confusion_matrix(y_test,y_pred_nb)"
      ],
      "metadata": {
        "id": "NC1Y_VgsU8sA"
      },
      "execution_count": null,
      "outputs": []
    },
    {
      "cell_type": "code",
      "source": [
        "from sklearn.metrics import classification_report"
      ],
      "metadata": {
        "id": "i_4UTqbyVCSe"
      },
      "execution_count": 103,
      "outputs": []
    },
    {
      "cell_type": "code",
      "source": [
        "print(classification_report(y_test,y_pred_nb))"
      ],
      "metadata": {
        "id": "5Y7Gkd2QVa0m"
      },
      "execution_count": null,
      "outputs": []
    },
    {
      "cell_type": "markdown",
      "source": [
        "# k-Nearest Neighbor\n",
        "- fit()\n",
        "- predict()\n",
        "- confusion_matrix()\n",
        "- classification_report()"
      ],
      "metadata": {
        "id": "G7vljHst0VMf"
      }
    },
    {
      "cell_type": "code",
      "source": [
        " from sklearn.neighbors import KNeighborsClassifier"
      ],
      "metadata": {
        "id": "tNztuQTPVfom"
      },
      "execution_count": 22,
      "outputs": []
    },
    {
      "cell_type": "code",
      "source": [
        "model_knn=KNeighborsClassifier(n_neighbors=3).fit(x_train,y_train)"
      ],
      "metadata": {
        "id": "zb1V1MZV1GRH"
      },
      "execution_count": 23,
      "outputs": []
    },
    {
      "cell_type": "code",
      "source": [
        "y_pred_knn=model_knn.predict(x_test)"
      ],
      "metadata": {
        "id": "ly8nUUPR1VB9"
      },
      "execution_count": 24,
      "outputs": []
    },
    {
      "cell_type": "code",
      "source": [
        "confusion_matrix(y_test,y_pred_knn)"
      ],
      "metadata": {
        "id": "UiH1HRTa1-K-"
      },
      "execution_count": null,
      "outputs": []
    },
    {
      "cell_type": "code",
      "source": [
        "print(classification_report(y_test,y_pred_knn))"
      ],
      "metadata": {
        "id": "jofuaj0r2XeA"
      },
      "execution_count": null,
      "outputs": []
    },
    {
      "cell_type": "markdown",
      "source": [
        "# Decision Tree\n",
        "- fit()\n",
        "- predict()\n",
        "- confusion_matrix()\n",
        "- classification_report()"
      ],
      "metadata": {
        "id": "0APzvWWtdSi8"
      }
    },
    {
      "cell_type": "code",
      "source": [
        "from sklearn.tree import DecisionTreeClassifier, plot_tree"
      ],
      "metadata": {
        "id": "BGyv6Tu52eLG"
      },
      "execution_count": 27,
      "outputs": []
    },
    {
      "cell_type": "code",
      "source": [
        "model_tree=DecisionTreeClassifier().fit(x_train,y_train)\n",
        "# model_tree2=DecisionTreeClassifier(criterion='entropy').fit(x_train,y_train)\n",
        "# model_tree3=DecisionTreeClassifier(criterion='entropy',max_depth=3).fit(x_train,y_train)"
      ],
      "metadata": {
        "id": "blhHbHiUdxeE"
      },
      "execution_count": 28,
      "outputs": []
    },
    {
      "cell_type": "code",
      "source": [
        "y_pred_tree=model_tree.predict(x_test)\n",
        "# y_pred_tree2=model_tree2.predict(x_test)"
      ],
      "metadata": {
        "id": "HjFsIFsEd9rU"
      },
      "execution_count": 29,
      "outputs": []
    },
    {
      "cell_type": "code",
      "source": [
        "from sklearn.metrics import confusion_matrix"
      ],
      "metadata": {
        "id": "DqSIQUaReFGN"
      },
      "execution_count": 30,
      "outputs": []
    },
    {
      "cell_type": "code",
      "source": [
        "confusion_matrix(y_test,y_pred_tree)\n",
        "# confusion_matrix(y_test,y_pred_tree2)"
      ],
      "metadata": {
        "id": "OAaq85XMeLHs"
      },
      "execution_count": null,
      "outputs": []
    },
    {
      "cell_type": "code",
      "source": [
        "from sklearn.metrics import classification_report"
      ],
      "metadata": {
        "id": "J90U1HJgeRAM"
      },
      "execution_count": 32,
      "outputs": []
    },
    {
      "cell_type": "code",
      "source": [
        "print(classification_report(y_test,y_pred_tree))\n",
        "# print(classification_report(y_test,y_pred_tree2))"
      ],
      "metadata": {
        "id": "n7sjdTN4eb0k"
      },
      "execution_count": null,
      "outputs": []
    },
    {
      "cell_type": "code",
      "source": [
        "import matplotlib.pyplot as plt"
      ],
      "metadata": {
        "id": "ztmShPw8eg-s"
      },
      "execution_count": 34,
      "outputs": []
    },
    {
      "cell_type": "code",
      "source": [
        "plt.figure(figsize=(15,15))\n",
        "plot_tree(model_tree,feature_names=['wing_length','tail_length','comb_length'],filled=True)\n",
        "# plot_tree(model_tree2,feature_names=['wing_length','tail_length','comb_length'],filled=True)\n",
        "plt.show()"
      ],
      "metadata": {
        "id": "cjxytrA8fIWe"
      },
      "execution_count": null,
      "outputs": []
    },
    {
      "cell_type": "markdown",
      "source": [
        "# Ensemble_Bagging\n",
        "- fit()\n",
        "- predict()\n",
        "- confusion_matrix()\n",
        "- classification_report()"
      ],
      "metadata": {
        "id": "U6hjfKGfgJqT"
      }
    },
    {
      "cell_type": "code",
      "source": [
        "from sklearn.ensemble import BaggingClassifier"
      ],
      "metadata": {
        "id": "eX0GvM8afbsj"
      },
      "execution_count": 36,
      "outputs": []
    },
    {
      "cell_type": "code",
      "source": [
        "model_bag=BaggingClassifier().fit(x_train,y_train)"
      ],
      "metadata": {
        "id": "je2bJ96vmJ3C"
      },
      "execution_count": 37,
      "outputs": []
    },
    {
      "cell_type": "code",
      "source": [
        "y_pred_bag=model_bag.predict(x_test)"
      ],
      "metadata": {
        "id": "Yp3cq50xmgHh"
      },
      "execution_count": 38,
      "outputs": []
    },
    {
      "cell_type": "code",
      "source": [
        "from sklearn.metrics import confusion_matrix"
      ],
      "metadata": {
        "id": "FU83EebFmly8"
      },
      "execution_count": 39,
      "outputs": []
    },
    {
      "cell_type": "code",
      "source": [
        "confusion_matrix(y_test,y_pred_bag)"
      ],
      "metadata": {
        "id": "xlRzgRuhmrkZ"
      },
      "execution_count": null,
      "outputs": []
    },
    {
      "cell_type": "code",
      "source": [
        "from sklearn.metrics import classification_report"
      ],
      "metadata": {
        "id": "a1VzumR8mxth"
      },
      "execution_count": 41,
      "outputs": []
    },
    {
      "cell_type": "code",
      "source": [
        "print(classification_report(y_test,y_pred_bag))"
      ],
      "metadata": {
        "id": "MJxnpf6Em91T"
      },
      "execution_count": null,
      "outputs": []
    },
    {
      "cell_type": "markdown",
      "source": [
        "# Boosting\n",
        "- fit()\n",
        "- predict()\n",
        "- confusion_matrix()\n",
        "- classification_report()"
      ],
      "metadata": {
        "id": "EDPn9qm6nKGu"
      }
    },
    {
      "cell_type": "code",
      "source": [
        "from sklearn.ensemble import AdaBoostClassifier\n",
        "# from sklearn.ensemble import GradientBoostingCalssifier"
      ],
      "metadata": {
        "id": "_uXHM5BTnDxQ"
      },
      "execution_count": 43,
      "outputs": []
    },
    {
      "cell_type": "code",
      "source": [
        "model_adb=AdaBoostClassifier().fit(x_train,y_train)\n",
        "# model_gb=GradientBoostingClassifier().fit(x_train,y_train)"
      ],
      "metadata": {
        "id": "gswNzdFtnj7D"
      },
      "execution_count": 44,
      "outputs": []
    },
    {
      "cell_type": "code",
      "source": [
        "y_pred_adb=model_adb.predict(x_test)"
      ],
      "metadata": {
        "id": "d_4cVJkJntZp"
      },
      "execution_count": 45,
      "outputs": []
    },
    {
      "cell_type": "code",
      "source": [
        "from sklearn.metrics import confusion_matrix"
      ],
      "metadata": {
        "id": "2QPfrqMtny8b"
      },
      "execution_count": 46,
      "outputs": []
    },
    {
      "cell_type": "code",
      "source": [
        "confusion_matrix(y_test,y_pred_adb)"
      ],
      "metadata": {
        "id": "NzS2NVc1n3f5"
      },
      "execution_count": null,
      "outputs": []
    },
    {
      "cell_type": "code",
      "source": [
        "from sklearn.metrics import classification_report"
      ],
      "metadata": {
        "id": "NoswNAron7vy"
      },
      "execution_count": 48,
      "outputs": []
    },
    {
      "cell_type": "code",
      "source": [
        "print(classification_report(y_test,y_pred_adb))"
      ],
      "metadata": {
        "id": "rW9Zu5b7oC9S"
      },
      "execution_count": null,
      "outputs": []
    },
    {
      "cell_type": "markdown",
      "source": [
        "# Random Forest\n",
        "- fit()\n",
        "- predict()\n",
        "- confusion_matrix()\n",
        "- classification_report()"
      ],
      "metadata": {
        "id": "idr8HK_XpMp4"
      }
    },
    {
      "cell_type": "code",
      "source": [
        "from sklearn.ensemble import RandomForestClassifier\n",
        "from sklearn.metrics import confusion_matrix,classification_report"
      ],
      "metadata": {
        "id": "ImJQ2T76pHOp"
      },
      "execution_count": 50,
      "outputs": []
    },
    {
      "cell_type": "code",
      "source": [
        "model_rf=RandomForestClassifier().fit(x_train,y_train)"
      ],
      "metadata": {
        "id": "2N_tl9rvprLx"
      },
      "execution_count": 51,
      "outputs": []
    },
    {
      "cell_type": "code",
      "source": [
        "y_pred_rf=model_rf.predict(x_test)"
      ],
      "metadata": {
        "id": "O6JjS4J7pz-w"
      },
      "execution_count": 52,
      "outputs": []
    },
    {
      "cell_type": "code",
      "source": [
        "confusion_matrix(y_test,y_pred_rf)"
      ],
      "metadata": {
        "id": "wJR_S2kNp5l5"
      },
      "execution_count": null,
      "outputs": []
    },
    {
      "cell_type": "code",
      "source": [
        "print(classification_report(y_test,y_pred_rf))"
      ],
      "metadata": {
        "id": "EPSUPetqqDCJ"
      },
      "execution_count": null,
      "outputs": []
    },
    {
      "cell_type": "markdown",
      "source": [
        "# SVM, Support Vector Machine\n",
        "- fit()\n",
        "- predict()\n",
        "- confusion_matrix()\n",
        "- classification_report()"
      ],
      "metadata": {
        "id": "6pN5m_GN1E9Y"
      }
    },
    {
      "cell_type": "code",
      "source": [
        "from sklearn.svm import SVC\n",
        "from sklearn.metrics import confusion_matrix, classification_report"
      ],
      "metadata": {
        "id": "VtjMs1zTqJ85"
      },
      "execution_count": 55,
      "outputs": []
    },
    {
      "cell_type": "code",
      "source": [
        "model_svm=SVC(kernel='linear').fit(x_train,y_train)"
      ],
      "metadata": {
        "id": "iWhUAIh21hXK"
      },
      "execution_count": 58,
      "outputs": []
    },
    {
      "cell_type": "code",
      "source": [
        "y_pred_svm=model_svc.predict(x_test)"
      ],
      "metadata": {
        "id": "mV668-c81wCx"
      },
      "execution_count": 60,
      "outputs": []
    },
    {
      "cell_type": "code",
      "source": [
        "confusion_matrix(y_test,y_pred_svm)"
      ],
      "metadata": {
        "id": "FXEitFzl12OR"
      },
      "execution_count": null,
      "outputs": []
    },
    {
      "cell_type": "code",
      "source": [
        "print(classification_report(y_test,y_pred_svm))"
      ],
      "metadata": {
        "id": "cDRBjU792DT5"
      },
      "execution_count": null,
      "outputs": []
    },
    {
      "cell_type": "code",
      "source": [
        "import seaborn as sns\n",
        "import matplotlib.pyplot as plt"
      ],
      "metadata": {
        "id": "s12VS5Zp3yc6"
      },
      "execution_count": 63,
      "outputs": []
    },
    {
      "cell_type": "code",
      "source": [
        "plt.figure(figsize=(10,5))\n",
        "sns.scatterplot(data=df_test,x='tail_length',y='wing_length',hue='breeds',style='breeds')\n",
        "plt.title('actual')"
      ],
      "metadata": {
        "id": "_FdSyz9S4B-i"
      },
      "execution_count": null,
      "outputs": []
    },
    {
      "cell_type": "markdown",
      "source": [
        "# XGBoost\n",
        "- fit()\n",
        "- predict()\n",
        "- confusion_matrix()\n",
        "- classification_report()\n"
      ],
      "metadata": {
        "id": "1emsUPBu54p5"
      }
    },
    {
      "cell_type": "code",
      "source": [
        "from xgboost import XGBClassifier\n",
        "from sklearn.metrics import confusion_matrix,classification_report"
      ],
      "metadata": {
        "id": "dUpD8mAp4ldx"
      },
      "execution_count": 70,
      "outputs": []
    },
    {
      "cell_type": "code",
      "source": [
        "model_xgb=XGBClassifier().fit(x_train,y_train)"
      ],
      "metadata": {
        "id": "j4w7e8oF6LKq"
      },
      "execution_count": 69,
      "outputs": []
    },
    {
      "cell_type": "code",
      "source": [
        "y_pred_xgb=model_xgb.predict(x_test)"
      ],
      "metadata": {
        "id": "7ZPnlnBy6TYa"
      },
      "execution_count": 73,
      "outputs": []
    },
    {
      "cell_type": "code",
      "source": [
        "confusion_matrix(y_test,y_pred_xgb)"
      ],
      "metadata": {
        "id": "KG5gcm4R6lSR"
      },
      "execution_count": null,
      "outputs": []
    },
    {
      "cell_type": "code",
      "source": [
        "print(classification_report(y_test,y_pred_xgb))"
      ],
      "metadata": {
        "id": "LiRB99zA6wHY"
      },
      "execution_count": null,
      "outputs": []
    },
    {
      "cell_type": "markdown",
      "source": [
        "# Grid Search\n",
        "- eta\n",
        "- gamma\n",
        "- max_depth"
      ],
      "metadata": {
        "id": "8wk8eqdX6-CY"
      }
    },
    {
      "cell_type": "code",
      "source": [
        "from sklearn.model_selection import GridSearchCV"
      ],
      "metadata": {
        "id": "Z3FhgdsT67HR"
      },
      "execution_count": 79,
      "outputs": []
    },
    {
      "cell_type": "code",
      "source": [
        "xgb_param_grid={'eta':[0.05,0.1,0.3,0.5],\n",
        "                'gamma':[0,0.5,1,2],\n",
        "                'max_depth':[2,4,8,12]}"
      ],
      "metadata": {
        "id": "SxU0BnOz7Y-p"
      },
      "execution_count": 81,
      "outputs": []
    },
    {
      "cell_type": "code",
      "source": [
        "xgb_grid=GridSearchCV(XGBClassifier(),param_grid=xgb_param_grid,n_jobs=-1,scoring='accuracy')"
      ],
      "metadata": {
        "id": "vu3AZESX7n4a"
      },
      "execution_count": 82,
      "outputs": []
    },
    {
      "cell_type": "code",
      "source": [
        "xgb_grid.fit(x_train,y_train)"
      ],
      "metadata": {
        "id": "al8qoibo7-NA"
      },
      "execution_count": null,
      "outputs": []
    },
    {
      "cell_type": "code",
      "source": [
        "xgb_grid.best_score_"
      ],
      "metadata": {
        "id": "kL6_CcdD8EqJ"
      },
      "execution_count": null,
      "outputs": []
    },
    {
      "cell_type": "code",
      "source": [
        "xgb_grid.best_params_"
      ],
      "metadata": {
        "id": "esN8vGJO8MPB"
      },
      "execution_count": null,
      "outputs": []
    },
    {
      "cell_type": "code",
      "source": [
        "model_xgb2=XGBClassifier(eta=0.05,gamma=0,max_depth=4).fit(x_train,y_train)"
      ],
      "metadata": {
        "id": "QEUS_6OG8QKa"
      },
      "execution_count": 87,
      "outputs": []
    },
    {
      "cell_type": "code",
      "source": [
        "y_pred_xgb2=model_xgb2.predict(x_test)"
      ],
      "metadata": {
        "id": "bSSzUl4I8egx"
      },
      "execution_count": 88,
      "outputs": []
    },
    {
      "cell_type": "code",
      "source": [
        "confusion_matrix(y_test,y_pred_xgb2)"
      ],
      "metadata": {
        "id": "1zn1O0As8ql4"
      },
      "execution_count": null,
      "outputs": []
    },
    {
      "cell_type": "code",
      "source": [
        "print(classification_report(y_test,y_pred_xgb2))"
      ],
      "metadata": {
        "id": "gVdH6YvO8vFh"
      },
      "execution_count": null,
      "outputs": []
    },
    {
      "cell_type": "code",
      "source": [],
      "metadata": {
        "id": "TNX_czxd803B"
      },
      "execution_count": null,
      "outputs": []
    }
  ]
}