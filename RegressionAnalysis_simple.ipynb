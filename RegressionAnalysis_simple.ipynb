{
  "nbformat": 4,
  "nbformat_minor": 0,
  "metadata": {
    "colab": {
      "provenance": [],
      "authorship_tag": "ABX9TyO2RYuinsK7f0qrorOd6Jha",
      "include_colab_link": true
    },
    "kernelspec": {
      "name": "python3",
      "display_name": "Python 3"
    },
    "language_info": {
      "name": "python"
    }
  },
  "cells": [
    {
      "cell_type": "markdown",
      "metadata": {
        "id": "view-in-github",
        "colab_type": "text"
      },
      "source": [
        "<a href=\"https://colab.research.google.com/github/gimpapa/Data_analysis_that_can_be_used_right_in_the_field_with_Python/blob/main/RegressionAnalysis_simple.ipynb\" target=\"_parent\"><img src=\"https://colab.research.google.com/assets/colab-badge.svg\" alt=\"Open In Colab\"/></a>"
      ]
    },
    {
      "cell_type": "code",
      "source": [
        "import pandas as pd"
      ],
      "metadata": {
        "id": "eyk26gnMlYNe"
      },
      "execution_count": 1,
      "outputs": []
    },
    {
      "cell_type": "markdown",
      "source": [
        "# Readme\n",
        "- chich_nm: chick's name in hatchery A\n",
        "- weight: chick's weight\n",
        "- egg_weight: the weight of a chick when it is an egg\n",
        "- movement: average distance a chick moves per day\n",
        "- food: average feed intake per day for chicks"
      ],
      "metadata": {
        "id": "fFisyutbmDHM"
      }
    },
    {
      "cell_type": "code",
      "source": [
        "chicks=pd.DataFrame(\n",
        "       {'chick_nm': ['a01',  'a02',  'a03',  'a04',  'a05',  'a06',  'a07',  'a08',  'a09',  'a10',\n",
        "                     'a11',  'a12',  'a13',  'a14',  'a15',  'a16',  'a17',  'a18',  'a19',  'a20',\n",
        "                     'a21',  'a22',  'a23',  'a24',  'a25',  'a26',  'a27',  'a28',  'a29',  'a30'],\n",
        "        'weight': [140,  128,  140,  135,  145,  138,  125,  148,  133,  145,\n",
        "                   143,  130,  133,  143,  145,  128,  148,  125,  145,  148,\n",
        "                   128,  133,  138,  143,  140,  138,  135,  140,  133,  135],\n",
        "        'egg_weight': [65,  62,  65,  65,  69,  65,  61,  69,  64,  69,  \n",
        "                       67,  61,  62,  67,  69,  61,  70,  61,  67,  69,  \n",
        "                       61,  64,  66,  67,  65,  66,  65,  66,  62,  63],\n",
        "        'movement': [146,  153,  118,  157,  157,  143,  110,  159,  133,  174,\n",
        "                     120,  109,  127,  131,  128,  102,  148,  125,  116,  130,\n",
        "                     107,  143,  160,  165,  168,  165,  124,  112,  154,  146],\n",
        "        'food': [14,  12,  13,  13,  13,  13,  11,  15,  11,  13,\n",
        "                 13,  12,  12,  13,  15,  11,  15,  10,  15,  14,\n",
        "                 11,  12,  12,  13,  14,  13,  12,  13,  12,  12]})"
      ],
      "metadata": {
        "id": "y2O7RqW8mClW"
      },
      "execution_count": 2,
      "outputs": []
    },
    {
      "cell_type": "markdown",
      "source": [
        "# Creat a new dataset without the first column."
      ],
      "metadata": {
        "id": "XsJYep2imSaL"
      }
    },
    {
      "cell_type": "code",
      "source": [
        "chicks_dataset=chicks.iloc[:,1:5]"
      ],
      "metadata": {
        "id": "0RC1sYz2mIGU"
      },
      "execution_count": 3,
      "outputs": []
    },
    {
      "cell_type": "code",
      "source": [
        "chicks_dataset.head()"
      ],
      "metadata": {
        "id": "mocezbW-mjza"
      },
      "execution_count": null,
      "outputs": []
    },
    {
      "cell_type": "code",
      "source": [
        "chicks_dataset.info()"
      ],
      "metadata": {
        "id": "Bc5IXdJCmmxq"
      },
      "execution_count": null,
      "outputs": []
    },
    {
      "cell_type": "markdown",
      "source": [
        "# Simple Linear Regression\n",
        "- Create a model : ols()\n",
        "- Model training : fit()\n",
        "- Check the result : summary()"
      ],
      "metadata": {
        "id": "cucFNZt_mXaL"
      }
    },
    {
      "cell_type": "code",
      "source": [
        "import statsmodels.formula.api as smf"
      ],
      "metadata": {
        "id": "DUfps3bXmVuc"
      },
      "execution_count": 6,
      "outputs": []
    },
    {
      "cell_type": "code",
      "source": [
        "           # ols(formula='y~x1+x2+x3...',    data=데이터이름)\n",
        "\n",
        "model_lr=smf.ols(formula='weight~egg_weight',data=chicks_dataset)"
      ],
      "metadata": {
        "id": "DnmZH1vtnVkT"
      },
      "execution_count": 7,
      "outputs": []
    },
    {
      "cell_type": "code",
      "source": [
        "result_lr=model_lr.fit()"
      ],
      "metadata": {
        "id": "z9NUukjin3qs"
      },
      "execution_count": 8,
      "outputs": []
    },
    {
      "cell_type": "code",
      "source": [
        "result_lr.summary()"
      ],
      "metadata": {
        "id": "dNcBVq-ppMld"
      },
      "execution_count": null,
      "outputs": []
    },
    {
      "cell_type": "code",
      "source": [
        "print(result_lr.summary())"
      ],
      "metadata": {
        "id": "8I6erR8vpPmT"
      },
      "execution_count": null,
      "outputs": []
    },
    {
      "cell_type": "code",
      "source": [
        "# y      = a      * x          + b\n",
        "# weight = 2.3371 * egg_weight - 14.5475"
      ],
      "metadata": {
        "id": "1URNT412p_Iz"
      },
      "execution_count": 11,
      "outputs": []
    },
    {
      "cell_type": "code",
      "source": [
        "import matplotlib.pyplot as plt"
      ],
      "metadata": {
        "id": "WW7yS1n4X-au"
      },
      "execution_count": 12,
      "outputs": []
    },
    {
      "cell_type": "code",
      "source": [
        "plt.figure(figsize=(10,6))\n",
        "plt.scatter(chicks_dataset.egg_weight,chicks_dataset.weight,alpha=.5)\n",
        "plt.plot(chicks_dataset.egg_weight,chicks_dataset.egg_weight*2.3371-14.5475,color='red')\n",
        "plt.text(66,132,'weight=2.3371*egg_weight-14.5475',fontsize=12)\n",
        "plt.title('Scatter Plot')\n",
        "plt.xlabel('egg_weight')\n",
        "plt.ylabel('weight')\n",
        "plt.show()"
      ],
      "metadata": {
        "id": "BSPuVSHAqMMb"
      },
      "execution_count": null,
      "outputs": []
    },
    {
      "cell_type": "code",
      "source": [
        "result_lr.resid.head() # residual check"
      ],
      "metadata": {
        "id": "YTcFdKZdYS-H"
      },
      "execution_count": null,
      "outputs": []
    },
    {
      "cell_type": "code",
      "source": [
        "plt.figure(figsize=(10,6))\n",
        "plt.hist(result_lr.resid,bins=7) # residual histogram\n",
        "plt.show()"
      ],
      "metadata": {
        "id": "V8A3rqARaCjd"
      },
      "execution_count": null,
      "outputs": []
    },
    {
      "cell_type": "code",
      "source": [],
      "metadata": {
        "id": "f0SMab_HaVB9"
      },
      "execution_count": null,
      "outputs": []
    }
  ]
}