{
  "nbformat": 4,
  "nbformat_minor": 0,
  "metadata": {
    "colab": {
      "provenance": [],
      "authorship_tag": "ABX9TyOBfxpcnorFSRzoTLJ8bsA1",
      "include_colab_link": true
    },
    "kernelspec": {
      "name": "python3",
      "display_name": "Python 3"
    },
    "language_info": {
      "name": "python"
    }
  },
  "cells": [
    {
      "cell_type": "markdown",
      "metadata": {
        "id": "view-in-github",
        "colab_type": "text"
      },
      "source": [
        "<a href=\"https://colab.research.google.com/github/gimpapa/Data_analysis_that_-can_be_used_right_in_the_field_with_Python/blob/main/numpy_basic.ipynb\" target=\"_parent\"><img src=\"https://colab.research.google.com/assets/colab-badge.svg\" alt=\"Open In Colab\"/></a>"
      ]
    },
    {
      "cell_type": "code",
      "execution_count": 1,
      "metadata": {
        "id": "n-jEWCR4dEDX"
      },
      "outputs": [],
      "source": [
        "import numpy as np"
      ]
    },
    {
      "cell_type": "markdown",
      "source": [
        "# Creating Arrays"
      ],
      "metadata": {
        "id": "vy1EhE59lgX7"
      }
    },
    {
      "cell_type": "code",
      "source": [
        "a0=np.array(1)\n",
        "\n",
        "a1=np.array([11,12])\n",
        "\n",
        "a2=np.array([[10,20],\n",
        "             [30,40]])\n",
        "\n",
        "a3=np.array([[[1,2,3],[4,5,6]],\n",
        "             [[3,6,9],[2,4,8]]])\n"
      ],
      "metadata": {
        "id": "ptlraluwdk4w"
      },
      "execution_count": 23,
      "outputs": []
    },
    {
      "cell_type": "code",
      "source": [
        "a0"
      ],
      "metadata": {
        "id": "K_SmjeKmdtS_"
      },
      "execution_count": null,
      "outputs": []
    },
    {
      "cell_type": "code",
      "source": [
        "a1"
      ],
      "metadata": {
        "id": "VHli1blVeoyI"
      },
      "execution_count": null,
      "outputs": []
    },
    {
      "cell_type": "code",
      "source": [
        "a2"
      ],
      "metadata": {
        "id": "K0G-ZzI_eqXI"
      },
      "execution_count": null,
      "outputs": []
    },
    {
      "cell_type": "code",
      "source": [
        "a3"
      ],
      "metadata": {
        "id": "5rK93eAde1AX"
      },
      "execution_count": null,
      "outputs": []
    },
    {
      "cell_type": "markdown",
      "source": [
        "# np.ndim"
      ],
      "metadata": {
        "id": "HKBBMpaplwHT"
      }
    },
    {
      "cell_type": "code",
      "source": [
        "print(a0.ndim,a1.ndim,a2.ndim,a3.ndim)"
      ],
      "metadata": {
        "id": "0UrhBEWqe-dQ"
      },
      "execution_count": null,
      "outputs": []
    },
    {
      "cell_type": "markdown",
      "source": [
        "# np.shape"
      ],
      "metadata": {
        "id": "VD7f8l38l2HT"
      }
    },
    {
      "cell_type": "code",
      "source": [
        "print(a0.shape,a1.shape,a2.shape,a3.shape)"
      ],
      "metadata": {
        "id": "Jhd_m9VHfNU3"
      },
      "execution_count": null,
      "outputs": []
    },
    {
      "cell_type": "markdown",
      "source": [
        "# Review"
      ],
      "metadata": {
        "id": "LhooKodNl52T"
      }
    },
    {
      "cell_type": "code",
      "source": [
        "a=np.array([1,2,3])\n",
        "b=np.array([[1],[2],[3]])\n",
        "c=np.array([[1,2,3]])"
      ],
      "metadata": {
        "id": "XWcBtU5EfzvP"
      },
      "execution_count": 35,
      "outputs": []
    },
    {
      "cell_type": "code",
      "source": [
        "print(a.ndim,b.ndim,c.ndim)"
      ],
      "metadata": {
        "id": "m_wQSwe9jGTM"
      },
      "execution_count": null,
      "outputs": []
    },
    {
      "cell_type": "code",
      "source": [
        "print(a.shape,b.shape,c.shape)"
      ],
      "metadata": {
        "id": "c7HRDPU0kUBU"
      },
      "execution_count": null,
      "outputs": []
    },
    {
      "cell_type": "markdown",
      "source": [
        "# Error"
      ],
      "metadata": {
        "id": "xw957cLnlZoT"
      }
    },
    {
      "cell_type": "code",
      "source": [
        "d=np.array(1,2,3) # error"
      ],
      "metadata": {
        "id": "CVX0eTtjkXJ9"
      },
      "execution_count": null,
      "outputs": []
    },
    {
      "cell_type": "markdown",
      "source": [
        "# Indexing"
      ],
      "metadata": {
        "id": "aVR2sL60lTwz"
      }
    },
    {
      "cell_type": "code",
      "source": [
        "tensor_a=np.array([[[11,12,13],\n",
        "                    [21,22,23]],\n",
        "          \n",
        "                    [[31,32,33],\n",
        "                     [41,42,43]]])"
      ],
      "metadata": {
        "id": "CrEyAc65kc4c"
      },
      "execution_count": 43,
      "outputs": []
    },
    {
      "cell_type": "code",
      "source": [
        "tensor_a"
      ],
      "metadata": {
        "id": "Ex2kXlfjlRbU"
      },
      "execution_count": null,
      "outputs": []
    },
    {
      "cell_type": "code",
      "source": [
        "print(tensor_a.ndim)"
      ],
      "metadata": {
        "id": "Z1YZw2i4mU5M"
      },
      "execution_count": null,
      "outputs": []
    },
    {
      "cell_type": "code",
      "source": [
        "print(tensor_a.shape)"
      ],
      "metadata": {
        "id": "SIZyQb5Mm5eU"
      },
      "execution_count": null,
      "outputs": []
    },
    {
      "cell_type": "code",
      "source": [
        "tensor_a[0]"
      ],
      "metadata": {
        "id": "B8wgeT6em7wj"
      },
      "execution_count": null,
      "outputs": []
    },
    {
      "cell_type": "code",
      "source": [
        "tensor_a[1]"
      ],
      "metadata": {
        "id": "-77Cpu8RnZtb"
      },
      "execution_count": null,
      "outputs": []
    },
    {
      "cell_type": "code",
      "source": [
        "tensor_a[2] # error"
      ],
      "metadata": {
        "id": "RjEhdpoWncsj"
      },
      "execution_count": null,
      "outputs": []
    },
    {
      "cell_type": "code",
      "source": [
        "tensor_a[0,1]"
      ],
      "metadata": {
        "id": "VIMHFutNneob"
      },
      "execution_count": null,
      "outputs": []
    },
    {
      "cell_type": "code",
      "source": [
        "tensor_a[0,1,2]"
      ],
      "metadata": {
        "id": "lfV_pu-gnr3T"
      },
      "execution_count": null,
      "outputs": []
    },
    {
      "cell_type": "code",
      "source": [],
      "metadata": {
        "id": "0J_lJrb3nz5r"
      },
      "execution_count": null,
      "outputs": []
    }
  ]
}