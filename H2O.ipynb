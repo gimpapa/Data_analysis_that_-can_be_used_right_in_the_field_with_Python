{
  "nbformat": 4,
  "nbformat_minor": 0,
  "metadata": {
    "colab": {
      "provenance": [],
      "authorship_tag": "ABX9TyPUGb4w3fzXKV08O25fJr/+",
      "include_colab_link": true
    },
    "kernelspec": {
      "name": "python3",
      "display_name": "Python 3"
    },
    "language_info": {
      "name": "python"
    }
  },
  "cells": [
    {
      "cell_type": "markdown",
      "metadata": {
        "id": "view-in-github",
        "colab_type": "text"
      },
      "source": [
        "<a href=\"https://colab.research.google.com/github/gimpapa/Data_analysis_that_can_be_used_right_in_the_field_with_Python/blob/main/H2O.ipynb\" target=\"_parent\"><img src=\"https://colab.research.google.com/assets/colab-badge.svg\" alt=\"Open In Colab\"/></a>"
      ]
    },
    {
      "cell_type": "markdown",
      "source": [
        "# H2O"
      ],
      "metadata": {
        "id": "3fRAp5VQHy3p"
      }
    },
    {
      "cell_type": "code",
      "execution_count": 1,
      "metadata": {
        "id": "oJOrbK2EHR4I"
      },
      "outputs": [],
      "source": [
        "import pandas as pd"
      ]
    },
    {
      "cell_type": "markdown",
      "source": [
        "# Data Load\n",
        "- mlp_data_set.csv"
      ],
      "metadata": {
        "id": "dNlY9inpIZwY"
      }
    },
    {
      "cell_type": "code",
      "source": [
        "mlp_data_set=pd.read_csv('https://raw.githubusercontent.com/gimpapa/Data_analysis_that_can_be_used_right_in_the_field_with_Python/main/mlp_data_set.csv')"
      ],
      "metadata": {
        "id": "Ydf9afqTIWkL"
      },
      "execution_count": 2,
      "outputs": []
    },
    {
      "cell_type": "code",
      "source": [
        "mlp_data_set.info()"
      ],
      "metadata": {
        "id": "rMDvVXKdIevY"
      },
      "execution_count": null,
      "outputs": []
    },
    {
      "cell_type": "code",
      "source": [
        "mlp_data_set.head()"
      ],
      "metadata": {
        "id": "d9GNXGMZIie4"
      },
      "execution_count": null,
      "outputs": []
    },
    {
      "cell_type": "markdown",
      "source": [
        "# Split the data set 8:2"
      ],
      "metadata": {
        "id": "6KPdDLCeInHI"
      }
    },
    {
      "cell_type": "code",
      "source": [
        "from sklearn.model_selection import train_test_split"
      ],
      "metadata": {
        "id": "I6g75mnHIi3q"
      },
      "execution_count": 5,
      "outputs": []
    },
    {
      "cell_type": "code",
      "source": [
        "train,test=train_test_split(mlp_data_set,test_size=0.2)"
      ],
      "metadata": {
        "id": "PSQmbVa4IqGR"
      },
      "execution_count": 6,
      "outputs": []
    },
    {
      "cell_type": "code",
      "source": [
        "train.info()"
      ],
      "metadata": {
        "id": "ZonSCiYYI-8S"
      },
      "execution_count": null,
      "outputs": []
    },
    {
      "cell_type": "code",
      "source": [
        "test.info()"
      ],
      "metadata": {
        "id": "ZqCyHieFJG1g"
      },
      "execution_count": null,
      "outputs": []
    },
    {
      "cell_type": "markdown",
      "source": [
        "# H2O\n",
        "- H2OFrame() : convert to H2O data frame\n",
        "- structure() : similar to info()\n",
        "- H2OdeepLearningEstimator : DNN\n",
        "- model_performance()\n",
        "- predict()"
      ],
      "metadata": {
        "id": "K6yEqrJuJ00w"
      }
    },
    {
      "cell_type": "code",
      "source": [
        "!pip install requests\n",
        "!pip install tabulate\n",
        "!pip install future"
      ],
      "metadata": {
        "id": "dj9QysoVJIlA"
      },
      "execution_count": null,
      "outputs": []
    },
    {
      "cell_type": "code",
      "source": [
        "!pip install -f http://h2o-release.s3.amaxonaws.com/h2o/latest_stable_Py.html h2o"
      ],
      "metadata": {
        "id": "2ob98Yg2LpY5"
      },
      "execution_count": null,
      "outputs": []
    },
    {
      "cell_type": "code",
      "source": [
        "import h2o"
      ],
      "metadata": {
        "id": "IwuuXzIuMKup"
      },
      "execution_count": 11,
      "outputs": []
    },
    {
      "cell_type": "code",
      "source": [
        "h2o.init()"
      ],
      "metadata": {
        "id": "g3bJ6p8LMUCH"
      },
      "execution_count": null,
      "outputs": []
    },
    {
      "cell_type": "code",
      "source": [
        "hf_train=h2o.H2OFrame(train)"
      ],
      "metadata": {
        "id": "wXFI2RNtMYlI"
      },
      "execution_count": null,
      "outputs": []
    },
    {
      "cell_type": "code",
      "source": [
        "hf_test=h2o.H2OFrame(test)"
      ],
      "metadata": {
        "id": "4bsYcr46PG2g"
      },
      "execution_count": null,
      "outputs": []
    },
    {
      "cell_type": "code",
      "source": [
        "type(hf_train),type(train)"
      ],
      "metadata": {
        "id": "mXNDF0ksPQev"
      },
      "execution_count": null,
      "outputs": []
    },
    {
      "cell_type": "code",
      "source": [
        "hf_train.structure()"
      ],
      "metadata": {
        "id": "Hm5eqJiPPU2g"
      },
      "execution_count": null,
      "outputs": []
    },
    {
      "cell_type": "code",
      "source": [
        "hf_test.structure()"
      ],
      "metadata": {
        "id": "ufx1K4afPai_"
      },
      "execution_count": null,
      "outputs": []
    },
    {
      "cell_type": "code",
      "source": [
        "from h2o.estimators import H2ODeepLearningEstimator"
      ],
      "metadata": {
        "id": "hvaqISNLPjZI"
      },
      "execution_count": 19,
      "outputs": []
    },
    {
      "cell_type": "code",
      "source": [
        "model_h2o=H2ODeepLearningEstimator().train(x=['egg_weight','acc_food'],y='weight',training_frame=hf_train)"
      ],
      "metadata": {
        "id": "pIrG-5oSYQkf"
      },
      "execution_count": null,
      "outputs": []
    },
    {
      "cell_type": "code",
      "source": [
        "model_h2o"
      ],
      "metadata": {
        "id": "TZJ9qhlDZF2-"
      },
      "execution_count": null,
      "outputs": []
    },
    {
      "cell_type": "code",
      "source": [
        "model_h2o.model_performance()"
      ],
      "metadata": {
        "id": "1Z5vTvbNZs0H"
      },
      "execution_count": null,
      "outputs": []
    },
    {
      "cell_type": "code",
      "source": [
        "model_h2o.r2()"
      ],
      "metadata": {
        "id": "4qhDMC0kaLan"
      },
      "execution_count": null,
      "outputs": []
    },
    {
      "cell_type": "code",
      "source": [
        "y_pred_h2o=model_h2o.predict(hf_test)"
      ],
      "metadata": {
        "id": "j_9I2823aR8G"
      },
      "execution_count": null,
      "outputs": []
    },
    {
      "cell_type": "code",
      "source": [
        "y_pred_h2o.head()"
      ],
      "metadata": {
        "id": "BfHfILXJacD1"
      },
      "execution_count": null,
      "outputs": []
    },
    {
      "cell_type": "code",
      "source": [
        "hf_result=hf_test.cbind(y_pred_h2o)"
      ],
      "metadata": {
        "id": "0BribwNSagwV"
      },
      "execution_count": 31,
      "outputs": []
    },
    {
      "cell_type": "code",
      "source": [
        "hf_result.head()"
      ],
      "metadata": {
        "id": "PqjgOxPvapae"
      },
      "execution_count": null,
      "outputs": []
    },
    {
      "cell_type": "code",
      "source": [
        "from sklearn.metrics import mean_squared_error,mean_absolute_error,r2_score"
      ],
      "metadata": {
        "id": "5tendgBBarVe"
      },
      "execution_count": 33,
      "outputs": []
    },
    {
      "cell_type": "code",
      "source": [
        "y_test2=hf_result[2].as_data_frame().values\n",
        "y_pred_h2o=hf_result[3].as_data_frame().values"
      ],
      "metadata": {
        "id": "p5yHT06DbC5v"
      },
      "execution_count": 34,
      "outputs": []
    },
    {
      "cell_type": "code",
      "source": [
        "RMSE=mean_squared_error(y_test2,y_pred_h2o,squared=False)\n",
        "MAE=mean_absolute_error(y_test2,y_pred_h2o)\n",
        "R2=r2_score(y_test2,y_pred_h2o)"
      ],
      "metadata": {
        "id": "PfAV_lpxbX7N"
      },
      "execution_count": 36,
      "outputs": []
    },
    {
      "cell_type": "code",
      "source": [
        "RMSE,MAE,R2"
      ],
      "metadata": {
        "id": "CrkRIZjebptu"
      },
      "execution_count": null,
      "outputs": []
    },
    {
      "cell_type": "code",
      "source": [],
      "metadata": {
        "id": "UIAloEwpbujm"
      },
      "execution_count": null,
      "outputs": []
    }
  ]
}