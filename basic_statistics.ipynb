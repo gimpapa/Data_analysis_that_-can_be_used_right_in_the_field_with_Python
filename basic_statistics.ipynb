{
  "nbformat": 4,
  "nbformat_minor": 0,
  "metadata": {
    "colab": {
      "provenance": [],
      "authorship_tag": "ABX9TyP1T3i2QxkCh70wB8eD6Mgu",
      "include_colab_link": true
    },
    "kernelspec": {
      "name": "python3",
      "display_name": "Python 3"
    },
    "language_info": {
      "name": "python"
    }
  },
  "cells": [
    {
      "cell_type": "markdown",
      "metadata": {
        "id": "view-in-github",
        "colab_type": "text"
      },
      "source": [
        "<a href=\"https://colab.research.google.com/github/gimpapa/Data_analysis_that_can_be_used_right_in_the_field_with_Python/blob/main/basic_statistics.ipynb\" target=\"_parent\"><img src=\"https://colab.research.google.com/assets/colab-badge.svg\" alt=\"Open In Colab\"/></a>"
      ]
    },
    {
      "cell_type": "code",
      "execution_count": 1,
      "metadata": {
        "id": "b4wncdjnrdng"
      },
      "outputs": [],
      "source": [
        "import pandas as pd"
      ]
    },
    {
      "cell_type": "markdown",
      "source": [
        "# Data for practice : Number of chicks born per hatchery\n"
      ],
      "metadata": {
        "id": "Tj1IuTL2s47B"
      }
    },
    {
      "cell_type": "code",
      "source": [
        "hat=pd.DataFrame({'hatchery':['A','B','C','D','E','F','G'],\n",
        "                  'chicks':[30,30,29,26,24,28,27]})"
      ],
      "metadata": {
        "id": "coJEyfrrrvLA"
      },
      "execution_count": 2,
      "outputs": []
    },
    {
      "cell_type": "code",
      "source": [
        "hat"
      ],
      "metadata": {
        "id": "ChdTBxONsJ94"
      },
      "execution_count": null,
      "outputs": []
    },
    {
      "cell_type": "markdown",
      "source": [
        "# Basic Statistics"
      ],
      "metadata": {
        "id": "q1QY5n8tt1Y2"
      }
    },
    {
      "cell_type": "code",
      "source": [
        "hat.chicks.sum()"
      ],
      "metadata": {
        "id": "Y3KmKuQnsK1w"
      },
      "execution_count": null,
      "outputs": []
    },
    {
      "cell_type": "code",
      "source": [
        "hat['chicks'].sum()"
      ],
      "metadata": {
        "id": "eg1Jp-b4uB3f"
      },
      "execution_count": null,
      "outputs": []
    },
    {
      "cell_type": "code",
      "source": [
        "hat.chicks.mean()"
      ],
      "metadata": {
        "id": "bpygDrckuIDf"
      },
      "execution_count": null,
      "outputs": []
    },
    {
      "cell_type": "code",
      "source": [
        "hat.chicks.std()"
      ],
      "metadata": {
        "id": "A4oM5lrauRcv"
      },
      "execution_count": null,
      "outputs": []
    },
    {
      "cell_type": "code",
      "source": [
        "hat.chicks.median()"
      ],
      "metadata": {
        "id": "xK9IU_MauYc_"
      },
      "execution_count": null,
      "outputs": []
    },
    {
      "cell_type": "code",
      "source": [
        "hat.chicks.min()"
      ],
      "metadata": {
        "id": "KFNHyySJuekv"
      },
      "execution_count": null,
      "outputs": []
    },
    {
      "cell_type": "code",
      "source": [
        "hat.chicks.max()"
      ],
      "metadata": {
        "id": "HnbRUzL1uhzn"
      },
      "execution_count": null,
      "outputs": []
    },
    {
      "cell_type": "markdown",
      "source": [
        "# Sort Data"
      ],
      "metadata": {
        "id": "khhFqtl_usme"
      }
    },
    {
      "cell_type": "code",
      "source": [
        "hat.chicks.sort_values(ascending=False)"
      ],
      "metadata": {
        "id": "RPS9AGtxujde"
      },
      "execution_count": null,
      "outputs": []
    },
    {
      "cell_type": "code",
      "source": [
        "hat.sort_values(by='chicks',ascending=True)"
      ],
      "metadata": {
        "id": "H2W7dxZRu61f"
      },
      "execution_count": null,
      "outputs": []
    },
    {
      "cell_type": "markdown",
      "source": [
        "# Draw a bar chart"
      ],
      "metadata": {
        "id": "rfQKYaASwxZN"
      }
    },
    {
      "cell_type": "code",
      "source": [
        "import matplotlib.pyplot as plt"
      ],
      "metadata": {
        "id": "09SnU_J0vHfd"
      },
      "execution_count": 14,
      "outputs": []
    },
    {
      "cell_type": "code",
      "source": [
        "plt.bar(hat.hatchery,hat.chicks)\n",
        "plt.show()"
      ],
      "metadata": {
        "id": "I6Y2v-zE05bG"
      },
      "execution_count": null,
      "outputs": []
    },
    {
      "cell_type": "code",
      "source": [
        "plt.figure(figsize=(10,7))\n",
        "plt.bar(hat.hatchery,hat.chicks,color=('red','orange','yellow','green','blue','navy','purple'))\n",
        "plt.title('Chick hatching status by hatchery')\n",
        "plt.xlabel('hatchery')\n",
        "plt.ylabel('number of hatched')\n",
        "plt.show()"
      ],
      "metadata": {
        "id": "d13rX0231B3d"
      },
      "execution_count": null,
      "outputs": []
    },
    {
      "cell_type": "code",
      "source": [
        "import seaborn as sns"
      ],
      "metadata": {
        "id": "yLW0Er_62E_v"
      },
      "execution_count": 18,
      "outputs": []
    },
    {
      "cell_type": "code",
      "source": [
        "col7=sns.color_palette('Pastel2',7)\n",
        "plt.figure(figsize=(10,7))\n",
        "plt.bar(hat.hatchery,hat.chicks,color=col7,edgecolor='black')\n",
        "plt.title('Chick hatching status by hatchery')\n",
        "plt.xlabel('hatchery')\n",
        "plt.ylabel('number of hatched')\n",
        "plt.show()"
      ],
      "metadata": {
        "id": "RxRHrt4R21_F"
      },
      "execution_count": null,
      "outputs": []
    },
    {
      "cell_type": "code",
      "source": [
        "len(hat.hatchery)"
      ],
      "metadata": {
        "id": "957sPjws3ZJV"
      },
      "execution_count": null,
      "outputs": []
    },
    {
      "cell_type": "code",
      "source": [
        "def addtext(x,y):\n",
        "    for i in range(len(x)):\n",
        "        plt.text(i,y[i]+0.5,y[i],ha='center')"
      ],
      "metadata": {
        "id": "3VnY8Gof3_K_"
      },
      "execution_count": 22,
      "outputs": []
    },
    {
      "cell_type": "code",
      "source": [
        "col7=sns.color_palette('Pastel2',7)\n",
        "plt.figure(figsize=(10,7))\n",
        "plt.bar(hat.hatchery,hat.chicks,color=col7,edgecolor='black')\n",
        "addtext(hat.hatchery,hat.chicks)\n",
        "plt.title('Chick hatching status by hatchery')\n",
        "plt.xlabel('hatchery')\n",
        "plt.ylabel('number of hatched')\n",
        "plt.show()"
      ],
      "metadata": {
        "id": "WgVhELRv7qcr"
      },
      "execution_count": null,
      "outputs": []
    },
    {
      "cell_type": "code",
      "source": [
        "col7=sns.color_palette('Pastel2',7)\n",
        "plt.figure(figsize=(10,7))\n",
        "plt.bar(hat.hatchery,hat.chicks,color=col7,edgecolor='black')\n",
        "addtext(hat.hatchery,hat.chicks)\n",
        "plt.hlines(30,-1,7,color='red',linestyles='dashed')\n",
        "plt.title('Chick hatching status by hatchery')\n",
        "plt.xlabel('hatchery')\n",
        "plt.ylabel('number of hatched')\n",
        "plt.show()"
      ],
      "metadata": {
        "id": "YSYwr2Nx8j5s"
      },
      "execution_count": null,
      "outputs": []
    },
    {
      "cell_type": "markdown",
      "source": [
        "# Draw a pie chart"
      ],
      "metadata": {
        "id": "yBZ4Mp3098My"
      }
    },
    {
      "cell_type": "code",
      "source": [
        "pct=hat.chicks/hat.chicks.sum()\n",
        "pct"
      ],
      "metadata": {
        "id": "t0FaOkiL9A-y"
      },
      "execution_count": null,
      "outputs": []
    },
    {
      "cell_type": "code",
      "source": [
        "col7=sns.color_palette('Pastel2',7)\n",
        "plt.figure(figsize=(10,10))\n",
        "plt.pie(pct,labels=hat.hatchery,autopct='%.1f%%',colors=col7,startangle=90,counterclock=False)\n",
        "plt.show()"
      ],
      "metadata": {
        "id": "Dvi_7PW3-I4a"
      },
      "execution_count": null,
      "outputs": []
    },
    {
      "cell_type": "code",
      "source": [],
      "metadata": {
        "id": "QyGQ82TC-7X8"
      },
      "execution_count": null,
      "outputs": []
    }
  ]
}