{
  "nbformat": 4,
  "nbformat_minor": 0,
  "metadata": {
    "colab": {
      "provenance": [],
      "authorship_tag": "ABX9TyNpbW4wgNRqP0rYu5S90dZv",
      "include_colab_link": true
    },
    "kernelspec": {
      "name": "python3",
      "display_name": "Python 3"
    },
    "language_info": {
      "name": "python"
    }
  },
  "cells": [
    {
      "cell_type": "markdown",
      "metadata": {
        "id": "view-in-github",
        "colab_type": "text"
      },
      "source": [
        "<a href=\"https://colab.research.google.com/github/gimpapa/Data_analysis_that_can_be_used_right_in_the_field_with_Python/blob/main/distribution.ipynb\" target=\"_parent\"><img src=\"https://colab.research.google.com/assets/colab-badge.svg\" alt=\"Open In Colab\"/></a>"
      ]
    },
    {
      "cell_type": "code",
      "execution_count": 2,
      "metadata": {
        "id": "AScbudBd-Nh-"
      },
      "outputs": [],
      "source": [
        "import pandas as pd"
      ]
    },
    {
      "cell_type": "markdown",
      "source": [
        "# Readme\n",
        "- chick_nm : chick's name\n",
        "- weight   : chick's weight"
      ],
      "metadata": {
        "id": "efEbv7XFJHvC"
      }
    },
    {
      "cell_type": "code",
      "source": [
        "chicks=pd.DataFrame({'chick_nm': \n",
        "                     ['b01',  'b02',  'b03',  'b04',  'b05',  'b06',  'b07',  'b08',  'b09',  'b10',  \n",
        "                      'b11',  'b12',  'b13',  'b14',  'b15',  'b16',  'b17',  'b18',  'b19',  'b20',\n",
        "                      'b21',  'b22',  'b23',  'b24',  'b25',  'b26',  'b27',  'b28',  'b29',  'b30'],\n",
        "                      'weight': \n",
        "                     [37,  39,  41,  45,  37,  33,  34,  31,  40,  41,\n",
        "                      38,  43,  41,  38,  39,  42,  35,  33,  36,  44,\n",
        "                      37,  41,  36,  39,  40,  39,  40,  36,  38,  39]})"
      ],
      "metadata": {
        "id": "qgl6waGVE8iD"
      },
      "execution_count": 3,
      "outputs": []
    },
    {
      "cell_type": "code",
      "source": [
        "chicks.head()"
      ],
      "metadata": {
        "id": "l7nCoetjIAMb"
      },
      "execution_count": null,
      "outputs": []
    },
    {
      "cell_type": "code",
      "source": [
        "chicks.info()"
      ],
      "metadata": {
        "id": "EI9MkXVVICyT"
      },
      "execution_count": null,
      "outputs": []
    },
    {
      "cell_type": "code",
      "source": [
        "chicks.describe()"
      ],
      "metadata": {
        "id": "7pJijTOVJpZL"
      },
      "execution_count": null,
      "outputs": []
    },
    {
      "cell_type": "code",
      "source": [
        "import matplotlib.pyplot as plt"
      ],
      "metadata": {
        "id": "7RbOmarJKs7i"
      },
      "execution_count": 7,
      "outputs": []
    },
    {
      "cell_type": "markdown",
      "source": [
        "# Histogram"
      ],
      "metadata": {
        "id": "yi2i5MrqL7gZ"
      }
    },
    {
      "cell_type": "code",
      "source": [
        "plt.figure(figsize=(10,7))\n",
        "plt.hist(chicks.weight,bins=7)\n",
        "plt.title('Chicks weight distribution', fontsize=17)\n",
        "plt.xlabel('Weight(g)')\n",
        "plt.ylabel('Number of chicks')\n",
        "plt.show()"
      ],
      "metadata": {
        "id": "1Le02agVLHaz"
      },
      "execution_count": null,
      "outputs": []
    },
    {
      "cell_type": "markdown",
      "source": [
        "# Boxplot"
      ],
      "metadata": {
        "id": "pc_GD-XRMBqJ"
      }
    },
    {
      "cell_type": "code",
      "source": [
        "plt.figure(figsize=(8,10))\n",
        "plt.boxplot(chicks.weight)\n",
        "plt.title('Chicks Weight Boxplot',fontsize=17)\n",
        "plt.ylabel('Weight(g)')\n",
        "plt.show()"
      ],
      "metadata": {
        "id": "ktqdYamsLnYq"
      },
      "execution_count": null,
      "outputs": []
    },
    {
      "cell_type": "markdown",
      "source": [
        "# Multiple graphs"
      ],
      "metadata": {
        "id": "eztmIpmFFS1j"
      }
    },
    {
      "cell_type": "code",
      "source": [
        "plt.figure(figsize=(10,12))\n",
        "plt.subplot(2,1,1)                                  # plt.subplot(1,2,1)\n",
        "plt.hist(chicks.weight,bins=7)\n",
        "plt.title('Chicks Weight Distribution',fontsize=17)\n",
        "plt.subplot(2,1,2)                                  # plt.subplot(1,2,2)\n",
        "plt.boxplot(chicks.weight,vert=False)   # vert=True\n",
        "plt.show()"
      ],
      "metadata": {
        "id": "Isg6WQHsMaGD"
      },
      "execution_count": null,
      "outputs": []
    },
    {
      "cell_type": "code",
      "source": [
        "plt.figure(figsize=(10,12))\n",
        "plt.subplot(1,2,1)                                  # plt.subplot(1,2,1)\n",
        "plt.hist(chicks.weight,bins=7)\n",
        "plt.title('Chicks Weight Distribution',fontsize=17)\n",
        "plt.subplot(1,2,2)                                  # plt.subplot(1,2,2)\n",
        "plt.boxplot(chicks.weight,vert=True)   # vert=True\n",
        "plt.show()"
      ],
      "metadata": {
        "id": "c1WIGZN4Engh"
      },
      "execution_count": null,
      "outputs": []
    },
    {
      "cell_type": "code",
      "source": [],
      "metadata": {
        "id": "JW5kqQzgFvwT"
      },
      "execution_count": 11,
      "outputs": []
    }
  ]
}