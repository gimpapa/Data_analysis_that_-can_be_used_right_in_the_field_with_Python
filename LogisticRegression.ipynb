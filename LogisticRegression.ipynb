{
  "nbformat": 4,
  "nbformat_minor": 0,
  "metadata": {
    "colab": {
      "provenance": [],
      "authorship_tag": "ABX9TyNeKwo372TlbKpVnyTJTp9X",
      "include_colab_link": true
    },
    "kernelspec": {
      "name": "python3",
      "display_name": "Python 3"
    },
    "language_info": {
      "name": "python"
    }
  },
  "cells": [
    {
      "cell_type": "markdown",
      "metadata": {
        "id": "view-in-github",
        "colab_type": "text"
      },
      "source": [
        "<a href=\"https://colab.research.google.com/github/gimpapa/Data_analysis_that_can_be_used_right_in_the_field_with_Python/blob/main/LogisticRegression.ipynb\" target=\"_parent\"><img src=\"https://colab.research.google.com/assets/colab-badge.svg\" alt=\"Open In Colab\"/></a>"
      ]
    },
    {
      "cell_type": "code",
      "execution_count": 1,
      "metadata": {
        "id": "nyGofUuHa9QE"
      },
      "outputs": [],
      "source": [
        "import pandas as pd"
      ]
    },
    {
      "cell_type": "markdown",
      "source": [
        "# Readme\n",
        "- wing_length : chick's wingspan\n",
        "- tail_length : chick's tail length\n",
        "- gender : chick's gender\n"
      ],
      "metadata": {
        "id": "BEsPc2cmels-"
      }
    },
    {
      "cell_type": "code",
      "source": [
        "chicks_data=pd.DataFrame({'wing_length': [44,  42,  43,  40,  44,  43,  42,  43,  41,  43,\n",
        "                                            41,  41,  43,  40,  40,  42,  43,  43,  44,  44,\n",
        "                                            40,  44,  40,  42,  43,  40,  40,  42,  43,  45,\n",
        "                                            45,  48,  44,  46,  44,  46,  46,  46,  45,  46,\n",
        "                                            47,  47,  46,  44,  47,  44,  48,  46,  45,  47,\n",
        "                                            44,  46,  43,  43,  48,  43,  46,  44,  45,  46],\n",
        "                           'tail_length': [9,  9,  8,  10,  8,  8,  8,  8,  10,  8,\n",
        "                                             8,  10,  8,  9,  9,  8,  10,  8,  9,  10,\n",
        "                                             9,  9,  9,  10,  9,  10,  8,  9,  8,  11,\n",
        "                                             10,  11,  12,  10,  10,  12,  10,  11,  11,  12,\n",
        "                                             12,  10,  11,  11,  12,  12,  11,  12,  12,  11,\n",
        "                                             12,  12,  11,  12,  12,  10,  11,  11,  11,  12],\n",
        "                           'gender': ['m',  'm',  'm',  'm',  'm',  'm',  'm',  'm',  'm',  'm',\n",
        "                                        'm',  'm',  'm',  'm',  'm',  'm',  'm',  'm',  'm',  'm',\n",
        "                                        'm',  'm',  'm',  'm',  'm',  'm',  'm',  'm',  'm',  'm',\n",
        "                                        'f',  'f',  'f',  'f',  'f',  'f',  'f',  'f',  'f',  'f',\n",
        "                                        'f',  'f',  'f',  'f',  'f',  'f',  'f',  'f',  'f',  'f',\n",
        "                                        'f',  'f',  'f',  'f',  'f',  'f',  'f',  'f',  'f',  'f']})"
      ],
      "metadata": {
        "id": "FkvcKQKcdr0v"
      },
      "execution_count": 6,
      "outputs": []
    },
    {
      "cell_type": "code",
      "source": [
        "chicks_data.info()"
      ],
      "metadata": {
        "id": "vd2ETeZkeNTw"
      },
      "execution_count": null,
      "outputs": []
    },
    {
      "cell_type": "markdown",
      "source": [
        "# Convert string data to numbers"
      ],
      "metadata": {
        "id": "d-3OyP_qgI9s"
      }
    },
    {
      "cell_type": "code",
      "source": [
        "chicks_data['gender']=chicks_data['gender'].map({'m':1,'f':0})"
      ],
      "metadata": {
        "id": "i7zNo3TEfhkw"
      },
      "execution_count": 8,
      "outputs": []
    },
    {
      "cell_type": "code",
      "source": [
        "chicks_data.info()"
      ],
      "metadata": {
        "id": "pIHJ1eIPf8OQ"
      },
      "execution_count": null,
      "outputs": []
    },
    {
      "cell_type": "markdown",
      "source": [
        "# Logistic Regression"
      ],
      "metadata": {
        "id": "6j8We65pg3tW"
      }
    },
    {
      "cell_type": "code",
      "source": [
        "import statsmodels.api as sm"
      ],
      "metadata": {
        "id": "UpmLxYnqf9_2"
      },
      "execution_count": 10,
      "outputs": []
    },
    {
      "cell_type": "code",
      "source": [
        "chicks_model=sm.Logit.from_formula('gender~wing_length+tail_length',data=chicks_data).fit()"
      ],
      "metadata": {
        "id": "DcQAW-gRhJEW"
      },
      "execution_count": null,
      "outputs": []
    },
    {
      "cell_type": "code",
      "source": [
        "print(chicks_model.summary())"
      ],
      "metadata": {
        "id": "xKoq4LL6hfkW"
      },
      "execution_count": null,
      "outputs": []
    },
    {
      "cell_type": "markdown",
      "source": [
        "# Generating probabilities of predicted values using predict()"
      ],
      "metadata": {
        "id": "mAF1J-2WkKFF"
      }
    },
    {
      "cell_type": "code",
      "source": [
        "gender_prob=chicks_model.predict(chicks_data)"
      ],
      "metadata": {
        "id": "glvsKVkzhlNm"
      },
      "execution_count": 22,
      "outputs": []
    },
    {
      "cell_type": "code",
      "source": [
        "gender_prob.head()"
      ],
      "metadata": {
        "id": "x1RvAI8_juzt"
      },
      "execution_count": null,
      "outputs": []
    },
    {
      "cell_type": "code",
      "source": [
        "gender_prob.shape"
      ],
      "metadata": {
        "id": "yjlIF18Vjwo2"
      },
      "execution_count": null,
      "outputs": []
    },
    {
      "cell_type": "code",
      "source": [
        "gender_prob.tail()"
      ],
      "metadata": {
        "id": "iXz1ERAHjzpe"
      },
      "execution_count": null,
      "outputs": []
    },
    {
      "cell_type": "markdown",
      "source": [
        "# Since there are only two outcomes for gender, a probability of 50% is set as the reference value.\n",
        "# Convert probabilities to 0 or 1 by rounding."
      ],
      "metadata": {
        "id": "HOoBQqzlmKZF"
      }
    },
    {
      "cell_type": "code",
      "source": [
        "gender_pred=list(map(round,gender_prob))"
      ],
      "metadata": {
        "id": "1ut7Iw--l139"
      },
      "execution_count": 29,
      "outputs": []
    },
    {
      "cell_type": "code",
      "source": [
        "gender_pred[0:10] # predict values"
      ],
      "metadata": {
        "id": "hnaJ7bv2mxl2"
      },
      "execution_count": null,
      "outputs": []
    },
    {
      "cell_type": "code",
      "source": [
        "gender_act=chicks_data['gender'] # actual values"
      ],
      "metadata": {
        "id": "TKk9v9gXnpZN"
      },
      "execution_count": 36,
      "outputs": []
    },
    {
      "cell_type": "code",
      "source": [
        "gender_act[0:10]"
      ],
      "metadata": {
        "id": "9VEQvp80oAN9"
      },
      "execution_count": null,
      "outputs": []
    },
    {
      "cell_type": "markdown",
      "source": [
        "# Making a confusion matrix"
      ],
      "metadata": {
        "id": "lf_qyzOhoTw1"
      }
    },
    {
      "cell_type": "code",
      "source": [
        "from sklearn.metrics import confusion_matrix"
      ],
      "metadata": {
        "id": "q1W6WL_voCS8"
      },
      "execution_count": 38,
      "outputs": []
    },
    {
      "cell_type": "code",
      "source": [
        "confusion_matrix(gender_act,gender_pred)"
      ],
      "metadata": {
        "id": "aIlJaborogVF"
      },
      "execution_count": null,
      "outputs": []
    },
    {
      "cell_type": "code",
      "source": [
        "from sklearn.metrics import classification_report"
      ],
      "metadata": {
        "id": "JPYYGDmGowxt"
      },
      "execution_count": 40,
      "outputs": []
    },
    {
      "cell_type": "code",
      "source": [
        "print(classification_report(gender_act,gender_pred))"
      ],
      "metadata": {
        "id": "vM5cFZB_o5wF"
      },
      "execution_count": null,
      "outputs": []
    },
    {
      "cell_type": "markdown",
      "source": [
        "# ROC curve"
      ],
      "metadata": {
        "id": "yBD3q4N7pHgU"
      }
    },
    {
      "cell_type": "code",
      "source": [
        "from sklearn.metrics import roc_curve"
      ],
      "metadata": {
        "id": "7jBJDxI0o_DM"
      },
      "execution_count": 42,
      "outputs": []
    },
    {
      "cell_type": "code",
      "source": [
        "fpr,tpr,thresholds=roc_curve(gender_act,gender_pred)"
      ],
      "metadata": {
        "id": "yFtVUTSapNV2"
      },
      "execution_count": 43,
      "outputs": []
    },
    {
      "cell_type": "code",
      "source": [
        "import matplotlib.pyplot as plt"
      ],
      "metadata": {
        "id": "u1ad0tMEpUYt"
      },
      "execution_count": 44,
      "outputs": []
    },
    {
      "cell_type": "code",
      "source": [
        "plt.figure(figsize=(10,7))\n",
        "plt.plot(fpr,tpr)\n",
        "plt.title('ROC Curve')\n",
        "plt.show()"
      ],
      "metadata": {
        "id": "TCs6BcLxpaeE"
      },
      "execution_count": null,
      "outputs": []
    },
    {
      "cell_type": "code",
      "source": [
        "from sklearn.metrics import auc"
      ],
      "metadata": {
        "id": "V74WEbjLpgEN"
      },
      "execution_count": 46,
      "outputs": []
    },
    {
      "cell_type": "code",
      "source": [
        "auc(fpr,tpr)"
      ],
      "metadata": {
        "id": "2mcCYV9tp6eN"
      },
      "execution_count": null,
      "outputs": []
    },
    {
      "cell_type": "code",
      "source": [],
      "metadata": {
        "id": "1DHy-q1Lp8jO"
      },
      "execution_count": null,
      "outputs": []
    }
  ]
}