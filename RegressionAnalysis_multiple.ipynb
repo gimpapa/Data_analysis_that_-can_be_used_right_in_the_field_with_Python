{
  "nbformat": 4,
  "nbformat_minor": 0,
  "metadata": {
    "colab": {
      "provenance": [],
      "authorship_tag": "ABX9TyNOHQvj2T3yM4ohrFpc0hOW",
      "include_colab_link": true
    },
    "kernelspec": {
      "name": "python3",
      "display_name": "Python 3"
    },
    "language_info": {
      "name": "python"
    }
  },
  "cells": [
    {
      "cell_type": "markdown",
      "metadata": {
        "id": "view-in-github",
        "colab_type": "text"
      },
      "source": [
        "<a href=\"https://colab.research.google.com/github/gimpapa/Data_analysis_that_can_be_used_right_in_the_field_with_Python/blob/main/RegressionAnalysis_multiple.ipynb\" target=\"_parent\"><img src=\"https://colab.research.google.com/assets/colab-badge.svg\" alt=\"Open In Colab\"/></a>"
      ]
    },
    {
      "cell_type": "code",
      "execution_count": 1,
      "metadata": {
        "id": "EFTbqPNndo8W"
      },
      "outputs": [],
      "source": [
        "import pandas as pd"
      ]
    },
    {
      "cell_type": "markdown",
      "source": [
        "# Readme\n",
        "- chich_nm: chick's name in hatchery A\n",
        "- weight: chick's weight\n",
        "- egg_weight: the weight of a chick when it is an egg\n",
        "- movement: average distance a chick moves per day\n",
        "- food: average feed intake per day for chicks"
      ],
      "metadata": {
        "id": "TPdU9CYDdx9s"
      }
    },
    {
      "cell_type": "code",
      "source": [
        "chicks=pd.DataFrame(\n",
        "       {'chick_nm': ['a01',  'a02',  'a03',  'a04',  'a05',  'a06',  'a07',  'a08',  'a09',  'a10',\n",
        "                     'a11',  'a12',  'a13',  'a14',  'a15',  'a16',  'a17',  'a18',  'a19',  'a20',\n",
        "                     'a21',  'a22',  'a23',  'a24',  'a25',  'a26',  'a27',  'a28',  'a29',  'a30'],\n",
        "        'weight': [140,  128,  140,  135,  145,  138,  125,  148,  133,  145,\n",
        "                   143,  130,  133,  143,  145,  128,  148,  125,  145,  148,\n",
        "                   128,  133,  138,  143,  140,  138,  135,  140,  133,  135],\n",
        "        'egg_weight': [65,  62,  65,  65,  69,  65,  61,  69,  64,  69,  \n",
        "                       67,  61,  62,  67,  69,  61,  70,  61,  67,  69,  \n",
        "                       61,  64,  66,  67,  65,  66,  65,  66,  62,  63],\n",
        "        'movement': [146,  153,  118,  157,  157,  143,  110,  159,  133,  174,\n",
        "                     120,  109,  127,  131,  128,  102,  148,  125,  116,  130,\n",
        "                     107,  143,  160,  165,  168,  165,  124,  112,  154,  146],\n",
        "        'food': [14,  12,  13,  13,  13,  13,  11,  15,  11,  13,\n",
        "                 13,  12,  12,  13,  15,  11,  15,  10,  15,  14,\n",
        "                 11,  12,  12,  13,  14,  13,  12,  13,  12,  12]})"
      ],
      "metadata": {
        "id": "YjYWocg4dxBn"
      },
      "execution_count": 2,
      "outputs": []
    },
    {
      "cell_type": "markdown",
      "source": [
        "# Creat a new dataset without the first column."
      ],
      "metadata": {
        "id": "5Desus5Nd38E"
      }
    },
    {
      "cell_type": "code",
      "source": [
        "chicks_dataset=chicks.iloc[:,1:5]"
      ],
      "metadata": {
        "id": "zADKP2VId2Mb"
      },
      "execution_count": 3,
      "outputs": []
    },
    {
      "cell_type": "code",
      "source": [
        "chicks_dataset.head()"
      ],
      "metadata": {
        "id": "QRj-Q8_6d7E0"
      },
      "execution_count": null,
      "outputs": []
    },
    {
      "cell_type": "code",
      "source": [
        "chicks_dataset.info()"
      ],
      "metadata": {
        "id": "8iUx6qfcd8eN"
      },
      "execution_count": null,
      "outputs": []
    },
    {
      "cell_type": "markdown",
      "source": [
        "# Multiple Regression Analysis\n",
        "- Create a model : ols()\n",
        "- Model training : fit()\n",
        "- Check the result : summary()"
      ],
      "metadata": {
        "id": "o-XhC9Gsd_kK"
      }
    },
    {
      "cell_type": "code",
      "source": [
        "import statsmodels.formula.api as smf"
      ],
      "metadata": {
        "id": "zAW6oQi1d9vc"
      },
      "execution_count": 6,
      "outputs": []
    },
    {
      "cell_type": "code",
      "source": [
        "           # ols(formula='y~x1+x2+x3...',         data=데이터이름)\n",
        "\n",
        "model_mr=smf.ols(formula='weight~egg_weight+food',data=chicks_dataset)"
      ],
      "metadata": {
        "id": "-Ack96gTgWML"
      },
      "execution_count": 10,
      "outputs": []
    },
    {
      "cell_type": "code",
      "source": [
        "result_mr=model_mr.fit()"
      ],
      "metadata": {
        "id": "MACGcR5mgjt0"
      },
      "execution_count": 11,
      "outputs": []
    },
    {
      "cell_type": "code",
      "source": [
        "print(result_mr.summary())"
      ],
      "metadata": {
        "id": "2Gr5oIh2gooT"
      },
      "execution_count": null,
      "outputs": []
    },
    {
      "cell_type": "code",
      "source": [
        "# y      =       ax          +       bx    + c\n",
        "# weight = 1.7453*egg_weight + 1.5955*food + 3.6638"
      ],
      "metadata": {
        "id": "aQCiJnGXjhtZ"
      },
      "execution_count": null,
      "outputs": []
    },
    {
      "cell_type": "markdown",
      "source": [
        "# Multicollinearity"
      ],
      "metadata": {
        "id": "3WhPLmm8iaFx"
      }
    },
    {
      "cell_type": "code",
      "source": [
        "from statsmodels.stats.outliers_influence import variance_inflation_factor"
      ],
      "metadata": {
        "id": "jcPDUjV0iWqS"
      },
      "execution_count": 15,
      "outputs": []
    },
    {
      "cell_type": "code",
      "source": [
        "model_mr.exog_names"
      ],
      "metadata": {
        "id": "MwwXp-J1itK6"
      },
      "execution_count": null,
      "outputs": []
    },
    {
      "cell_type": "code",
      "source": [
        "vif1=variance_inflation_factor(model_mr.exog,1)"
      ],
      "metadata": {
        "id": "MT6as8q-iydi"
      },
      "execution_count": 17,
      "outputs": []
    },
    {
      "cell_type": "code",
      "source": [
        "vif2=variance_inflation_factor(model_mr.exog,2)"
      ],
      "metadata": {
        "id": "30w7p1VOi6Oz"
      },
      "execution_count": 18,
      "outputs": []
    },
    {
      "cell_type": "code",
      "source": [
        "print(vif1,vif2)"
      ],
      "metadata": {
        "id": "tlvU-quxi-Y2"
      },
      "execution_count": null,
      "outputs": []
    },
    {
      "cell_type": "markdown",
      "source": [
        "# Residual"
      ],
      "metadata": {
        "id": "2jttpkdcjKdJ"
      }
    },
    {
      "cell_type": "code",
      "source": [
        "result_mr.resid.head()"
      ],
      "metadata": {
        "id": "mJ5620JujA1T"
      },
      "execution_count": null,
      "outputs": []
    },
    {
      "cell_type": "code",
      "source": [
        "plt.figure(figsize=(10,6))\n",
        "plt.hist(result_mr.resid,bins=7) # residual histogram\n",
        "plt.show()"
      ],
      "metadata": {
        "id": "zhMgOYhnjO7C"
      },
      "execution_count": null,
      "outputs": []
    },
    {
      "cell_type": "code",
      "source": [],
      "metadata": {
        "id": "RFC9-nt9jZwT"
      },
      "execution_count": null,
      "outputs": []
    }
  ]
}