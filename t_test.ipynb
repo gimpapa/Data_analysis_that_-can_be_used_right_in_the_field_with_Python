{
  "nbformat": 4,
  "nbformat_minor": 0,
  "metadata": {
    "colab": {
      "provenance": [],
      "authorship_tag": "ABX9TyNga8nnMjBBVVc5VFc0dHCS",
      "include_colab_link": true
    },
    "kernelspec": {
      "name": "python3",
      "display_name": "Python 3"
    },
    "language_info": {
      "name": "python"
    }
  },
  "cells": [
    {
      "cell_type": "markdown",
      "metadata": {
        "id": "view-in-github",
        "colab_type": "text"
      },
      "source": [
        "<a href=\"https://colab.research.google.com/github/gimpapa/Data_analysis_that_can_be_used_right_in_the_field_with_Python/blob/main/t_test.ipynb\" target=\"_parent\"><img src=\"https://colab.research.google.com/assets/colab-badge.svg\" alt=\"Open In Colab\"/></a>"
      ]
    },
    {
      "cell_type": "code",
      "execution_count": 3,
      "metadata": {
        "id": "EnNW-rjXU6KH"
      },
      "outputs": [],
      "source": [
        "import pandas as pd"
      ]
    },
    {
      "cell_type": "markdown",
      "source": [
        "# Readme\n",
        "- hatchery : A, B\n",
        "- chick_nm : chick's name\n",
        "- weight : chick's weight\n",
        "- Data sampled by 10 chicks per hatchery"
      ],
      "metadata": {
        "id": "_VFHwj3SWdFA"
      }
    },
    {
      "cell_type": "code",
      "source": [
        "test=pd.DataFrame({'hatchery': ['A',  'A',  'A',  'A',  'A',  'A',  'A',  'A',  'A',  'A',\n",
        "                                'B',  'B',  'B',  'B',  'B',  'B',  'B',  'B',  'B',  'B'],\n",
        "                   'chick_nm': ['a01',  'a05',  'a09',  'a12',  'a15',  'a17',  'a26',  'a28',  'a29',  'a30',\n",
        "                                'b01',  'b02',  'b07',  'b11',  'b13',  'b17',  'b22',  'b27',  'b28',  'b30'],\n",
        "                     'weight': [112,  116,  106,  104,  116,  118,  110,  112,  106,  108,\n",
        "                                100,  110,  98,  100,  104,  112,  106,  106,  96,  110]})\n",
        "test.head()"
      ],
      "metadata": {
        "id": "dgHV814bVqpp"
      },
      "execution_count": null,
      "outputs": []
    },
    {
      "cell_type": "markdown",
      "source": [
        "# Draw a boxplot by group using seaborn"
      ],
      "metadata": {
        "id": "h_I0jmNNXybZ"
      }
    },
    {
      "cell_type": "code",
      "source": [
        "import seaborn as sns\n",
        "import matplotlib.pyplot as plt"
      ],
      "metadata": {
        "id": "DgA9RXbiWR-a"
      },
      "execution_count": 5,
      "outputs": []
    },
    {
      "cell_type": "code",
      "source": [
        "plt.figure(figsize=(10,7))\n",
        "sns.boxplot(x='weight',y='hatchery',data=test)\n",
        "plt.title('Hatchery A vs. B, Weight distribution comparison',fontsize=17)\n",
        "plt.show()"
      ],
      "metadata": {
        "id": "S2SOenpIX6Lr"
      },
      "execution_count": null,
      "outputs": []
    },
    {
      "cell_type": "code",
      "source": [
        "import scipy as sp"
      ],
      "metadata": {
        "id": "HNpxgS-MgoO8"
      },
      "execution_count": 7,
      "outputs": []
    },
    {
      "cell_type": "markdown",
      "source": [
        "# Organizing datasets by hatchery"
      ],
      "metadata": {
        "id": "mmdusdUU-BeX"
      }
    },
    {
      "cell_type": "code",
      "source": [
        "test_a=test.loc[test.hatchery=='A','weight']\n",
        "test_b=test.loc[test.hatchery=='B','weight']"
      ],
      "metadata": {
        "id": "PPPYw7TG9dyS"
      },
      "execution_count": 8,
      "outputs": []
    },
    {
      "cell_type": "code",
      "source": [
        "test_a"
      ],
      "metadata": {
        "id": "O8R0YMXz-KBC"
      },
      "execution_count": null,
      "outputs": []
    },
    {
      "cell_type": "code",
      "source": [
        "test_b"
      ],
      "metadata": {
        "id": "DFjB53FJ-Q1i"
      },
      "execution_count": null,
      "outputs": []
    },
    {
      "cell_type": "markdown",
      "source": [
        "# Shapiro-Wilk Test"
      ],
      "metadata": {
        "id": "b8PJDlFC-U0w"
      }
    },
    {
      "cell_type": "code",
      "source": [
        "sp.stats.shapiro(test_a)"
      ],
      "metadata": {
        "id": "gOdUGsJ7-SDQ"
      },
      "execution_count": null,
      "outputs": []
    },
    {
      "cell_type": "code",
      "source": [
        "sp.stats.shapiro(test_b)"
      ],
      "metadata": {
        "id": "BNI3wAwi-ppJ"
      },
      "execution_count": null,
      "outputs": []
    },
    {
      "cell_type": "markdown",
      "source": [
        "# t-test"
      ],
      "metadata": {
        "id": "pKqguF1c-2oo"
      }
    },
    {
      "cell_type": "code",
      "source": [
        "sp.stats.ttest_ind(test_a,test_b)"
      ],
      "metadata": {
        "id": "a3iVyh27-uMB"
      },
      "execution_count": null,
      "outputs": []
    },
    {
      "cell_type": "code",
      "source": [],
      "metadata": {
        "id": "JPS_AdKY-8sh"
      },
      "execution_count": null,
      "outputs": []
    }
  ]
}