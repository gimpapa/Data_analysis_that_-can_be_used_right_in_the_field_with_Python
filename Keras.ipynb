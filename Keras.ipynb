{
  "nbformat": 4,
  "nbformat_minor": 0,
  "metadata": {
    "colab": {
      "provenance": [],
      "authorship_tag": "ABX9TyPbfYUOlJMPs/sxPZjJoebC",
      "include_colab_link": true
    },
    "kernelspec": {
      "name": "python3",
      "display_name": "Python 3"
    },
    "language_info": {
      "name": "python"
    }
  },
  "cells": [
    {
      "cell_type": "markdown",
      "metadata": {
        "id": "view-in-github",
        "colab_type": "text"
      },
      "source": [
        "<a href=\"https://colab.research.google.com/github/gimpapa/Data_analysis_that_can_be_used_right_in_the_field_with_Python/blob/main/Keras.ipynb\" target=\"_parent\"><img src=\"https://colab.research.google.com/assets/colab-badge.svg\" alt=\"Open In Colab\"/></a>"
      ]
    },
    {
      "cell_type": "markdown",
      "source": [
        "# Data Load"
      ],
      "metadata": {
        "id": "nwDxnKy1lUGR"
      }
    },
    {
      "cell_type": "code",
      "execution_count": 1,
      "metadata": {
        "id": "6ROFzoLGk6Wz"
      },
      "outputs": [],
      "source": [
        "import pandas as pd"
      ]
    },
    {
      "cell_type": "code",
      "source": [
        "df_train=pd.read_csv('https://raw.githubusercontent.com/gimpapa/Data_analysis_that_can_be_used_right_in_the_field_with_Python/main/classification_train_set.csv')\n",
        "df_test=pd.read_csv('https://raw.githubusercontent.com/gimpapa/Data_analysis_that_can_be_used_right_in_the_field_with_Python/main/classification_test_set.csv')"
      ],
      "metadata": {
        "id": "u7AvT8U-lZkS"
      },
      "execution_count": 3,
      "outputs": []
    },
    {
      "cell_type": "code",
      "source": [
        "df_train.head(2)"
      ],
      "metadata": {
        "id": "WOyW8n27ml9Z"
      },
      "execution_count": null,
      "outputs": []
    },
    {
      "cell_type": "code",
      "source": [
        "df_test.head(2)"
      ],
      "metadata": {
        "id": "ExiB39AcmrZQ"
      },
      "execution_count": null,
      "outputs": []
    },
    {
      "cell_type": "markdown",
      "source": [
        "# Data Split"
      ],
      "metadata": {
        "id": "pM3x8yLXnXv5"
      }
    },
    {
      "cell_type": "code",
      "source": [
        "x_train=df_train.iloc[:,0:3].values\n",
        "y_train=df_train.iloc[:,3].values\n",
        "x_test=df_test.iloc[:,0:3].values\n",
        "y_test=df_test.iloc[:,3].values"
      ],
      "metadata": {
        "id": "0rGcCGzdl6Zq"
      },
      "execution_count": 7,
      "outputs": []
    },
    {
      "cell_type": "markdown",
      "source": [
        "# Scaling\n",
        "- fit()\n",
        "- transform()\n",
        "- fit_transform()"
      ],
      "metadata": {
        "id": "NLAq16vQnbYo"
      }
    },
    {
      "cell_type": "code",
      "source": [
        "from sklearn.preprocessing import MinMaxScaler"
      ],
      "metadata": {
        "id": "FpqECEwUm8ZC"
      },
      "execution_count": 8,
      "outputs": []
    },
    {
      "cell_type": "code",
      "source": [
        "mms=MinMaxScaler().fit(x_train)"
      ],
      "metadata": {
        "id": "VRhh8r_Xn5JR"
      },
      "execution_count": 9,
      "outputs": []
    },
    {
      "cell_type": "code",
      "source": [
        "mms_x_train=mms.transform(x_train)\n",
        "mms_x_test=mms.transform(x_test)"
      ],
      "metadata": {
        "id": "gabqGaUqoMMZ"
      },
      "execution_count": 10,
      "outputs": []
    },
    {
      "cell_type": "code",
      "source": [
        "x_train[0:5]"
      ],
      "metadata": {
        "id": "bIUa0wSEoWwZ"
      },
      "execution_count": null,
      "outputs": []
    },
    {
      "cell_type": "code",
      "source": [
        "mms_x_train[0:5]"
      ],
      "metadata": {
        "id": "lHNdPVfjou25"
      },
      "execution_count": null,
      "outputs": []
    },
    {
      "cell_type": "markdown",
      "source": [
        "# One-Hot Encoding\n",
        "- fit()\n",
        "- transform()"
      ],
      "metadata": {
        "id": "UM2SLYH1pi9g"
      }
    },
    {
      "cell_type": "code",
      "source": [
        "y_train[0:5]"
      ],
      "metadata": {
        "id": "xmn0Gtnooxyq"
      },
      "execution_count": null,
      "outputs": []
    },
    {
      "cell_type": "code",
      "source": [
        "from sklearn.preprocessing import LabelBinarizer"
      ],
      "metadata": {
        "id": "eyLaZijupvCZ"
      },
      "execution_count": 14,
      "outputs": []
    },
    {
      "cell_type": "code",
      "source": [
        "lb=LabelBinarizer().fit(y_train)"
      ],
      "metadata": {
        "id": "qkzHqLqup2Sh"
      },
      "execution_count": 15,
      "outputs": []
    },
    {
      "cell_type": "code",
      "source": [
        "o_y_train=lb.transform(y_train)\n",
        "o_y_test=lb.transform(y_test)"
      ],
      "metadata": {
        "id": "OhfJb7Y7qCux"
      },
      "execution_count": 16,
      "outputs": []
    },
    {
      "cell_type": "code",
      "source": [
        "o_y_train[0:5]"
      ],
      "metadata": {
        "id": "6iEdi2OxqYMA"
      },
      "execution_count": null,
      "outputs": []
    },
    {
      "cell_type": "markdown",
      "source": [
        "# Model\n",
        "1. Build a model\n",
        "- Sequential()\n",
        "- add(Input())\n",
        "- add(Dense())\n",
        "2. Prepare a model\n",
        "- compile()\n",
        "3. Learing\n",
        "- fit()\n",
        "- evaluate()\n",
        "- predict()\n",
        "- confusion_matrix()\n",
        "- classification_report()"
      ],
      "metadata": {
        "id": "Ya7uguxAqk3A"
      }
    },
    {
      "cell_type": "code",
      "source": [
        "!pip install tensorflow"
      ],
      "metadata": {
        "id": "-Jbr4lESqdSh"
      },
      "execution_count": null,
      "outputs": []
    },
    {
      "cell_type": "code",
      "source": [
        "!pip install keras"
      ],
      "metadata": {
        "id": "S9LSXpP0rRkJ"
      },
      "execution_count": null,
      "outputs": []
    },
    {
      "cell_type": "code",
      "source": [
        "from tensorflow import keras\n",
        "from keras.models import Sequential\n",
        "from keras.layers import Input,Dense"
      ],
      "metadata": {
        "id": "8Rbsygwjrymy"
      },
      "execution_count": 21,
      "outputs": []
    },
    {
      "cell_type": "code",
      "source": [
        "model=Sequential()\n",
        "model.add(Input(3))\n",
        "model.add(Dense(16,activation='relu'))\n",
        "model.add(Dense(16,activation='relu'))\n",
        "model.add(Dense(3,activation='softmax'))"
      ],
      "metadata": {
        "id": "XPcWBiVtsGeP"
      },
      "execution_count": 23,
      "outputs": []
    },
    {
      "cell_type": "code",
      "source": [
        "model.summary()"
      ],
      "metadata": {
        "id": "W37kAC_Xsg-a"
      },
      "execution_count": null,
      "outputs": []
    },
    {
      "cell_type": "code",
      "source": [
        "model.compile(loss='categorical_crossentropy',optimizer='adam',metrics='accuracy')"
      ],
      "metadata": {
        "id": "s9TqtpqdtBZw"
      },
      "execution_count": 29,
      "outputs": []
    },
    {
      "cell_type": "code",
      "source": [
        "hist=model.fit(mms_x_train,o_y_train,epochs=300,batch_size=16,validation_split=0.2)"
      ],
      "metadata": {
        "id": "b7THZpZ_tSHJ"
      },
      "execution_count": null,
      "outputs": []
    },
    {
      "cell_type": "code",
      "source": [
        "import matplotlib.pyplot as plt"
      ],
      "metadata": {
        "id": "UMElclnTwpEo"
      },
      "execution_count": 31,
      "outputs": []
    },
    {
      "cell_type": "code",
      "source": [
        "plt.figure(figsize=(16,5))\n",
        "plt.subplot(1,2,1)\n",
        "plt.xlabel('Epochs')\n",
        "plt.ylabel('Loss')\n",
        "plt.plot(hist.history['loss'],label='Train Loss')\n",
        "plt.plot(hist.history['val_loss'],label='Val Loss')\n",
        "plt.legend()\n",
        "plt.subplot(1,2,2)\n",
        "plt.xlabel('Epochs')\n",
        "plt.ylabel('Accuracy')\n",
        "plt.plot(hist.history['accuracy'],label='Train Accuracy')\n",
        "plt.plot(hist.history['val_accuracy'],label='Val Accuracy')\n",
        "plt.legend()\n",
        "plt.show()"
      ],
      "metadata": {
        "id": "Rml_a8SCuUJ4"
      },
      "execution_count": null,
      "outputs": []
    },
    {
      "cell_type": "code",
      "source": [
        "model.evaluate(mms_x_train,o_y_train)"
      ],
      "metadata": {
        "id": "604G006Kxygo"
      },
      "execution_count": null,
      "outputs": []
    },
    {
      "cell_type": "code",
      "source": [
        "model.evaluate(mms_x_test,o_y_test)"
      ],
      "metadata": {
        "id": "YBkFeNmQyCpH"
      },
      "execution_count": null,
      "outputs": []
    },
    {
      "cell_type": "code",
      "source": [
        "y_pred=model.predict(mms_x_test)"
      ],
      "metadata": {
        "id": "rAWJ-EEvyOjn"
      },
      "execution_count": null,
      "outputs": []
    },
    {
      "cell_type": "code",
      "source": [
        "y_pred[0:5]"
      ],
      "metadata": {
        "id": "oCw5AQC1yWMn"
      },
      "execution_count": null,
      "outputs": []
    },
    {
      "cell_type": "code",
      "source": [
        "y_pred=y_pred.round()"
      ],
      "metadata": {
        "id": "fq4AoiYcyYp3"
      },
      "execution_count": 43,
      "outputs": []
    },
    {
      "cell_type": "code",
      "source": [
        "y_pred[0:5]"
      ],
      "metadata": {
        "id": "uOE7w304yeJf"
      },
      "execution_count": null,
      "outputs": []
    },
    {
      "cell_type": "code",
      "source": [
        "import numpy as np"
      ],
      "metadata": {
        "id": "vdNbommFyggP"
      },
      "execution_count": 45,
      "outputs": []
    },
    {
      "cell_type": "code",
      "source": [
        "y_pred=np.argmax(y_pred,axis=1).reshape(-1)"
      ],
      "metadata": {
        "id": "DUhQRwmwykme"
      },
      "execution_count": 46,
      "outputs": []
    },
    {
      "cell_type": "code",
      "source": [
        "y_pred"
      ],
      "metadata": {
        "id": "9l_A0DrMywx3"
      },
      "execution_count": null,
      "outputs": []
    },
    {
      "cell_type": "code",
      "source": [
        "condlist=[y_pred==0,y_pred==1,y_pred==2]\n",
        "choicelist=['a','b','c']\n",
        "y_pred=np.select(condlist,choicelist)"
      ],
      "metadata": {
        "id": "8LnKXFu1yxzG"
      },
      "execution_count": 48,
      "outputs": []
    },
    {
      "cell_type": "code",
      "source": [
        "y_pred"
      ],
      "metadata": {
        "id": "uUu8Q9StzKBv"
      },
      "execution_count": null,
      "outputs": []
    },
    {
      "cell_type": "code",
      "source": [
        "print(y_pred[0:5],y_test[0:5])"
      ],
      "metadata": {
        "id": "31-0ponGzLLZ"
      },
      "execution_count": null,
      "outputs": []
    },
    {
      "cell_type": "code",
      "source": [
        "from sklearn.metrics import confusion_matrix,classification_report"
      ],
      "metadata": {
        "id": "PrlhvDGozScn"
      },
      "execution_count": 51,
      "outputs": []
    },
    {
      "cell_type": "code",
      "source": [
        "confusion_matrix(y_test,y_pred)"
      ],
      "metadata": {
        "id": "jbf7tPdJzfNQ"
      },
      "execution_count": null,
      "outputs": []
    },
    {
      "cell_type": "code",
      "source": [
        "print(classification_report(y_test,y_pred))"
      ],
      "metadata": {
        "id": "debtqSgUzi-g"
      },
      "execution_count": null,
      "outputs": []
    },
    {
      "cell_type": "markdown",
      "source": [
        "# Dropout"
      ],
      "metadata": {
        "id": "__Sv4d8kzqrP"
      }
    },
    {
      "cell_type": "code",
      "source": [
        "from keras.layers import Dropout"
      ],
      "metadata": {
        "id": "czL781Z0znXv"
      },
      "execution_count": 55,
      "outputs": []
    },
    {
      "cell_type": "code",
      "source": [
        "model_do=Sequential()\n",
        "model_do.add(Input(3))\n",
        "model_do.add(Dense(16,activation='relu'))\n",
        "model_do.add(Dropout(0.4))\n",
        "model_do.add(Dense(16,activation='relu'))\n",
        "model_do.add(Dropout(0.4))\n",
        "model_do.add(Dense(3,activation='softmax'))"
      ],
      "metadata": {
        "id": "VicYz21Ez0N_"
      },
      "execution_count": 56,
      "outputs": []
    },
    {
      "cell_type": "code",
      "source": [
        "model_do.summary()"
      ],
      "metadata": {
        "id": "MFCRYp2U0J-_"
      },
      "execution_count": null,
      "outputs": []
    },
    {
      "cell_type": "code",
      "source": [],
      "metadata": {
        "id": "ysyPwG_60MC4"
      },
      "execution_count": null,
      "outputs": []
    }
  ]
}