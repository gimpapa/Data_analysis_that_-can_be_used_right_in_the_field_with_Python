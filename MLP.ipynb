{
  "nbformat": 4,
  "nbformat_minor": 0,
  "metadata": {
    "colab": {
      "provenance": [],
      "mount_file_id": "1sNThdgJsWd5oC-hmNPHLI7qBl-at0VLf",
      "authorship_tag": "ABX9TyP3jtTNyMbHbenZd/KRdW+5",
      "include_colab_link": true
    },
    "kernelspec": {
      "name": "python3",
      "display_name": "Python 3"
    },
    "language_info": {
      "name": "python"
    }
  },
  "cells": [
    {
      "cell_type": "markdown",
      "metadata": {
        "id": "view-in-github",
        "colab_type": "text"
      },
      "source": [
        "<a href=\"https://colab.research.google.com/github/gimpapa/Data_analysis_that_can_be_used_right_in_the_field_with_Python/blob/main/MLP.ipynb\" target=\"_parent\"><img src=\"https://colab.research.google.com/assets/colab-badge.svg\" alt=\"Open In Colab\"/></a>"
      ]
    },
    {
      "cell_type": "markdown",
      "source": [
        "# MLP, Multi-Layer Perceptron"
      ],
      "metadata": {
        "id": "JXug8n58WWDN"
      }
    },
    {
      "cell_type": "code",
      "source": [
        "import pandas as pd"
      ],
      "metadata": {
        "id": "vDc8hR5HWgSu"
      },
      "execution_count": 1,
      "outputs": []
    },
    {
      "cell_type": "markdown",
      "source": [
        "# Data Load\n",
        "- mlp_data_set.csv"
      ],
      "metadata": {
        "id": "29TlzzfmW3fL"
      }
    },
    {
      "cell_type": "code",
      "source": [
        "mlp_data_set=pd.read_csv('https://raw.githubusercontent.com/gimpapa/Data_analysis_that_can_be_used_right_in_the_field_with_Python/main/mlp_data_set.csv')"
      ],
      "metadata": {
        "id": "P7FvnWef_9AB"
      },
      "execution_count": 2,
      "outputs": []
    },
    {
      "cell_type": "code",
      "source": [
        "mlp_data_set.info()"
      ],
      "metadata": {
        "id": "j2VmZfgOXAv9"
      },
      "execution_count": null,
      "outputs": []
    },
    {
      "cell_type": "code",
      "source": [
        "mlp_data_set.head()"
      ],
      "metadata": {
        "id": "CmZC4iiZXjIO"
      },
      "execution_count": null,
      "outputs": []
    },
    {
      "cell_type": "code",
      "source": [
        "mlp_data_set_corr=mlp_data_set.corr(method='pearson')\n",
        "mlp_data_set_corr"
      ],
      "metadata": {
        "id": "sf-wNR3xXnAW"
      },
      "execution_count": null,
      "outputs": []
    },
    {
      "cell_type": "code",
      "source": [
        "import seaborn as sns"
      ],
      "metadata": {
        "id": "HRhVDrwsX2g1"
      },
      "execution_count": 5,
      "outputs": []
    },
    {
      "cell_type": "code",
      "source": [
        "sns.pairplot(mlp_data_set)"
      ],
      "metadata": {
        "id": "Ixuzi3O2X_9d"
      },
      "execution_count": null,
      "outputs": []
    },
    {
      "cell_type": "markdown",
      "source": [
        "# Split the data set 8:2"
      ],
      "metadata": {
        "id": "rRgT0EXAYt9E"
      }
    },
    {
      "cell_type": "code",
      "source": [
        "from sklearn.model_selection import train_test_split"
      ],
      "metadata": {
        "id": "5kuWNXwOYIo9"
      },
      "execution_count": 7,
      "outputs": []
    },
    {
      "cell_type": "code",
      "source": [
        "x_data=mlp_data_set.iloc[:,0:2].values\n",
        "y_data=mlp_data_set.iloc[:,2].values\n",
        "x_train,x_test,y_train,y_test=train_test_split(x_data,y_data,test_size=0.2)"
      ],
      "metadata": {
        "id": "Ta1H2IDRB1AD"
      },
      "execution_count": 8,
      "outputs": []
    },
    {
      "cell_type": "code",
      "source": [
        "print(len(x_data),len(y_data),len(x_train),len(y_train),len(x_test),len(y_test))"
      ],
      "metadata": {
        "id": "FR6nW9JACXIS"
      },
      "execution_count": null,
      "outputs": []
    },
    {
      "cell_type": "markdown",
      "source": [
        "# MLPRegressor()\n",
        "- fit()\n",
        "- predict()\n",
        "- evaluation: mean_squared_error()\n",
        "- evaluation: mean_absolute_error()\n",
        "- evaluation: r2_score"
      ],
      "metadata": {
        "id": "2z3_VlbbDIIZ"
      }
    },
    {
      "cell_type": "code",
      "source": [
        "from sklearn.neural_network import MLPRegressor"
      ],
      "metadata": {
        "id": "uh5yof_TCkii"
      },
      "execution_count": 13,
      "outputs": []
    },
    {
      "cell_type": "code",
      "source": [
        "model_mlp=MLPRegressor().fit(x_train,y_train)"
      ],
      "metadata": {
        "id": "J8vflkJkD_NT"
      },
      "execution_count": 14,
      "outputs": []
    },
    {
      "cell_type": "code",
      "source": [
        "model_mlp.get_params()"
      ],
      "metadata": {
        "id": "vrlZb9y0EFWa"
      },
      "execution_count": null,
      "outputs": []
    },
    {
      "cell_type": "code",
      "source": [
        "y_pred_mlp=model_mlp.predict(x_test)"
      ],
      "metadata": {
        "id": "FPorn4AwEJL6"
      },
      "execution_count": 16,
      "outputs": []
    },
    {
      "cell_type": "code",
      "source": [
        "y_pred_mlp"
      ],
      "metadata": {
        "id": "qyzyoB-cEVti"
      },
      "execution_count": null,
      "outputs": []
    },
    {
      "cell_type": "code",
      "source": [
        "from sklearn.metrics import mean_squared_error,mean_absolute_error,r2_score"
      ],
      "metadata": {
        "id": "iE93g8kHEX1C"
      },
      "execution_count": 18,
      "outputs": []
    },
    {
      "cell_type": "code",
      "source": [
        "MSE=mean_squared_error(y_test,y_pred_mlp,squared=True)\n",
        "RMSE=mean_squared_error(y_test,y_pred_mlp,squared=False)"
      ],
      "metadata": {
        "id": "8NMwWmq8EwiB"
      },
      "execution_count": 19,
      "outputs": []
    },
    {
      "cell_type": "code",
      "source": [
        "MAE=mean_absolute_error(y_test,y_pred_mlp)"
      ],
      "metadata": {
        "id": "Ac4JlvnYFVrT"
      },
      "execution_count": 20,
      "outputs": []
    },
    {
      "cell_type": "code",
      "source": [
        "R2=r2_score(y_test,y_pred_mlp)"
      ],
      "metadata": {
        "id": "t4TFPS9_FeRp"
      },
      "execution_count": 21,
      "outputs": []
    },
    {
      "cell_type": "code",
      "source": [
        "MSE,RMSE,MAE,R2"
      ],
      "metadata": {
        "id": "VvqVh5XFFjm6"
      },
      "execution_count": null,
      "outputs": []
    },
    {
      "cell_type": "code",
      "source": [],
      "metadata": {
        "id": "_ULH0_SoFnZU"
      },
      "execution_count": null,
      "outputs": []
    }
  ]
}