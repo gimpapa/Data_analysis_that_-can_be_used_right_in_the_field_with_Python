{
  "nbformat": 4,
  "nbformat_minor": 0,
  "metadata": {
    "colab": {
      "provenance": [],
      "authorship_tag": "ABX9TyNsF/EAlTxsFKiNc/aAGFrV",
      "include_colab_link": true
    },
    "kernelspec": {
      "name": "python3",
      "display_name": "Python 3"
    },
    "language_info": {
      "name": "python"
    }
  },
  "cells": [
    {
      "cell_type": "markdown",
      "metadata": {
        "id": "view-in-github",
        "colab_type": "text"
      },
      "source": [
        "<a href=\"https://colab.research.google.com/github/gimpapa/Data_analysis_that_can_be_used_right_in_the_field_with_Python/blob/main/CorrelationAnalysis.ipynb\" target=\"_parent\"><img src=\"https://colab.research.google.com/assets/colab-badge.svg\" alt=\"Open In Colab\"/></a>"
      ]
    },
    {
      "cell_type": "code",
      "execution_count": 1,
      "metadata": {
        "id": "BN_x9Klc_fQY"
      },
      "outputs": [],
      "source": [
        "import pandas as pd"
      ]
    },
    {
      "cell_type": "markdown",
      "source": [
        "# Readme\n",
        "- chich_nm: chick's name in hatchery A\n",
        "- weight: chick's weight\n",
        "- egg_weight: the weight of a chick when it is an egg\n",
        "- movement: average distance a chick moves per day\n",
        "- food: average feed intake per day for chicks"
      ],
      "metadata": {
        "id": "ZVCWDllmExF3"
      }
    },
    {
      "cell_type": "code",
      "source": [
        "chicks=pd.DataFrame(\n",
        "       {'chick_nm': ['a01',  'a02',  'a03',  'a04',  'a05',  'a06',  'a07',  'a08',  'a09',  'a10',\n",
        "                     'a11',  'a12',  'a13',  'a14',  'a15',  'a16',  'a17',  'a18',  'a19',  'a20',\n",
        "                     'a21',  'a22',  'a23',  'a24',  'a25',  'a26',  'a27',  'a28',  'a29',  'a30'],\n",
        "        'weight': [140,  128,  140,  135,  145,  138,  125,  148,  133,  145,\n",
        "                   143,  130,  133,  143,  145,  128,  148,  125,  145,  148,\n",
        "                   128,  133,  138,  143,  140,  138,  135,  140,  133,  135],\n",
        "        'egg_weight': [65,  62,  65,  65,  69,  65,  61,  69,  64,  69,  \n",
        "                       67,  61,  62,  67,  69,  61,  70,  61,  67,  69,  \n",
        "                       61,  64,  66,  67,  65,  66,  65,  66,  62,  63],\n",
        "        'movement': [146,  153,  118,  157,  157,  143,  110,  159,  133,  174,\n",
        "                     120,  109,  127,  131,  128,  102,  148,  125,  116,  130,\n",
        "                     107,  143,  160,  165,  168,  165,  124,  112,  154,  146],\n",
        "        'food': [14,  12,  13,  13,  13,  13,  11,  15,  11,  13,\n",
        "                 13,  12,  12,  13,  15,  11,  15,  10,  15,  14,\n",
        "                 11,  12,  12,  13,  14,  13,  12,  13,  12,  12]})"
      ],
      "metadata": {
        "id": "FilFsfGmDsJH"
      },
      "execution_count": 12,
      "outputs": []
    },
    {
      "cell_type": "code",
      "source": [
        "chicks.head()"
      ],
      "metadata": {
        "id": "VI4vctz5EtCK"
      },
      "execution_count": null,
      "outputs": []
    },
    {
      "cell_type": "code",
      "source": [
        "chicks.info()"
      ],
      "metadata": {
        "id": "f6girCQcGQ6q"
      },
      "execution_count": null,
      "outputs": []
    },
    {
      "cell_type": "markdown",
      "source": [
        "# Creat a new dataset without the first column."
      ],
      "metadata": {
        "id": "NSPhr2-QWtCO"
      }
    },
    {
      "cell_type": "code",
      "source": [
        "chicks_dataset=chicks.iloc[:,1:5]"
      ],
      "metadata": {
        "id": "EbzSVB2XGj7o"
      },
      "execution_count": 18,
      "outputs": []
    },
    {
      "cell_type": "code",
      "source": [
        "chicks_dataset.head()"
      ],
      "metadata": {
        "id": "AdYgjCkhWk_9"
      },
      "execution_count": null,
      "outputs": []
    },
    {
      "cell_type": "markdown",
      "source": [
        "# Correlaion analysis"
      ],
      "metadata": {
        "id": "wW_CfF3lXLJ1"
      }
    },
    {
      "cell_type": "code",
      "source": [
        "import matplotlib.pyplot as plt\n",
        "import seaborn as sns"
      ],
      "metadata": {
        "id": "TkKvs_laXu68"
      },
      "execution_count": 24,
      "outputs": []
    },
    {
      "cell_type": "code",
      "source": [
        "sns.pairplot(chicks_dataset)"
      ],
      "metadata": {
        "id": "aTR4UkNKX2rd"
      },
      "execution_count": null,
      "outputs": []
    },
    {
      "cell_type": "code",
      "source": [
        "chicks_dataset.corr(method='pearson')   # pearson, spearman, kendall"
      ],
      "metadata": {
        "id": "ypXTQuRKW9MD"
      },
      "execution_count": null,
      "outputs": []
    },
    {
      "cell_type": "code",
      "source": [
        "plt.figure(figsize=(10,6))\n",
        "sns.heatmap(chicks_dataset.corr(method='pearson'),annot=True,cmap='Blues')\n",
        "plt.show()"
      ],
      "metadata": {
        "id": "t1HlDHZ5YoTU"
      },
      "execution_count": null,
      "outputs": []
    },
    {
      "cell_type": "code",
      "source": [
        "chicks_dataset.corr(method='spearman')"
      ],
      "metadata": {
        "id": "-csUFPJlXZil"
      },
      "execution_count": null,
      "outputs": []
    },
    {
      "cell_type": "code",
      "source": [
        "chicks_dataset.corr(method='kendall')"
      ],
      "metadata": {
        "id": "jWzJOfu3Xs0E"
      },
      "execution_count": null,
      "outputs": []
    },
    {
      "cell_type": "code",
      "source": [],
      "metadata": {
        "id": "buquCGtaYFOt"
      },
      "execution_count": null,
      "outputs": []
    }
  ]
}